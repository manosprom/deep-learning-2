{
 "cells": [
  {
   "cell_type": "code",
   "execution_count": 1,
   "metadata": {},
   "outputs": [],
   "source": [
    "%load_ext autoreload\n",
    "%autoreload 2\n",
    "\n",
    "import sys\n",
    "\n",
    "sys.path.append(\"../src\")"
   ]
  },
  {
   "cell_type": "markdown",
   "metadata": {},
   "source": [
    "# Set seeds for reproducible examples"
   ]
  },
  {
   "cell_type": "code",
   "execution_count": 2,
   "metadata": {},
   "outputs": [],
   "source": [
    "from src.seeded import tf, seed"
   ]
  },
  {
   "cell_type": "markdown",
   "metadata": {},
   "source": [
    "# Load MURA dataset"
   ]
  },
  {
   "cell_type": "code",
   "execution_count": 3,
   "metadata": {},
   "outputs": [],
   "source": [
    "from src.MuraLoader import MuraLoader\n",
    "\n",
    "muraLoader = MuraLoader()"
   ]
  },
  {
   "cell_type": "markdown",
   "metadata": {},
   "source": [
    "# DenseNet"
   ]
  },
  {
   "cell_type": "code",
   "execution_count": 4,
   "metadata": {},
   "outputs": [],
   "source": [
    "from src.models.ModelRunner import ModelRunner\n",
    "\n",
    "runner = ModelRunner(muraLoader)"
   ]
  },
  {
   "cell_type": "code",
   "execution_count": 5,
   "metadata": {},
   "outputs": [],
   "source": [
    "from src.models.builders import densenet201_builder"
   ]
  },
  {
   "cell_type": "code",
   "execution_count": 9,
   "metadata": {},
   "outputs": [
    {
     "name": "stdout",
     "output_type": "stream",
     "text": [
      "Number of layers in network 708\n",
      "densenet201/densenet201_in.256.256.3_p.avg__wc_aug\n",
      "/home/manos/servers/jupyterhub/user_dirs/manos/AUEB Data Science/6 - Deep Learning (INF401) - Prodromos Malakasiotis/Assignments/Assignment 2/models/densenet201/densenet201_in.256.256.3_p.avg__wc_aug\n"
     ]
    },
    {
     "data": {
      "text/html": [
       "<div>\n",
       "<style scoped>\n",
       "    .dataframe tbody tr th:only-of-type {\n",
       "        vertical-align: middle;\n",
       "    }\n",
       "\n",
       "    .dataframe tbody tr th {\n",
       "        vertical-align: top;\n",
       "    }\n",
       "\n",
       "    .dataframe thead th {\n",
       "        text-align: right;\n",
       "    }\n",
       "</style>\n",
       "<table border=\"1\" class=\"dataframe\">\n",
       "  <thead>\n",
       "    <tr style=\"text-align: right;\">\n",
       "      <th></th>\n",
       "      <th>loss</th>\n",
       "      <th>auc</th>\n",
       "      <th>accuracy</th>\n",
       "      <th>kappa</th>\n",
       "      <th>val_loss</th>\n",
       "      <th>val_auc</th>\n",
       "      <th>val_accuracy</th>\n",
       "      <th>val_kappa</th>\n",
       "      <th>lr</th>\n",
       "    </tr>\n",
       "  </thead>\n",
       "  <tbody>\n",
       "    <tr>\n",
       "      <th>14</th>\n",
       "      <td>0.552828</td>\n",
       "      <td>0.78808</td>\n",
       "      <td>0.716328</td>\n",
       "      <td>0.41822</td>\n",
       "      <td>0.530904</td>\n",
       "      <td>0.794092</td>\n",
       "      <td>0.739609</td>\n",
       "      <td>0.445993</td>\n",
       "      <td>0.001</td>\n",
       "    </tr>\n",
       "  </tbody>\n",
       "</table>\n",
       "</div>"
      ],
      "text/plain": [
       "        loss      auc  accuracy    kappa  val_loss   val_auc  val_accuracy  \\\n",
       "14  0.552828  0.78808  0.716328  0.41822  0.530904  0.794092      0.739609   \n",
       "\n",
       "    val_kappa     lr  \n",
       "14   0.445993  0.001  "
      ]
     },
     "metadata": {},
     "output_type": "display_data"
    },
    {
     "data": {
      "text/html": [
       "<div>\n",
       "<style scoped>\n",
       "    .dataframe tbody tr th:only-of-type {\n",
       "        vertical-align: middle;\n",
       "    }\n",
       "\n",
       "    .dataframe tbody tr th {\n",
       "        vertical-align: top;\n",
       "    }\n",
       "\n",
       "    .dataframe thead th {\n",
       "        text-align: right;\n",
       "    }\n",
       "</style>\n",
       "<table border=\"1\" class=\"dataframe\">\n",
       "  <thead>\n",
       "    <tr style=\"text-align: right;\">\n",
       "      <th></th>\n",
       "      <th>loss</th>\n",
       "      <th>auc</th>\n",
       "      <th>accuracy</th>\n",
       "      <th>kappa</th>\n",
       "    </tr>\n",
       "  </thead>\n",
       "  <tbody>\n",
       "    <tr>\n",
       "      <th>0</th>\n",
       "      <td>0.55657</td>\n",
       "      <td>0.788457</td>\n",
       "      <td>0.722865</td>\n",
       "      <td>0.439776</td>\n",
       "    </tr>\n",
       "  </tbody>\n",
       "</table>\n",
       "</div>"
      ],
      "text/plain": [
       "      loss       auc  accuracy     kappa\n",
       "0  0.55657  0.788457  0.722865  0.439776"
      ]
     },
     "metadata": {},
     "output_type": "display_data"
    }
   ],
   "source": [
    "densenet201 = densenet201_builder(pooling='avg')\n",
    "modelStats = runner.run(model=densenet201, overwrite=False, verbose=1, weight_classes=True, augment=True)\n",
    "display(modelStats.getBestEpoch())\n",
    "display(modelStats.getEvaluation())"
   ]
  },
  {
   "cell_type": "code",
   "execution_count": 18,
   "metadata": {},
   "outputs": [
    {
     "name": "stdout",
     "output_type": "stream",
     "text": [
      "conv5_block18_concat\n",
      "conv5_block30_concat\n",
      "conv5_block32_2_conv\n",
      "conv5_block32_1_conv\n",
      "conv5_block32_2_conv\n"
     ]
    }
   ],
   "source": [
    "print(densenet201.layers[0].layers[606].name)\n",
    "print(densenet201.layers[0].layers[690].name)\n",
    "print(densenet201.layers[0].layers[703].name)\n",
    "print(densenet201.layers[0].layers[700].name)\n",
    "print(densenet201.layers[0].layers[703].name)"
   ]
  },
  {
   "cell_type": "code",
   "execution_count": 10,
   "metadata": {},
   "outputs": [
    {
     "name": "stdout",
     "output_type": "stream",
     "text": [
      "Number of layers in network 708\n",
      "densenet201/densenet201_in.256.256.3_p.avg_tla.690__wc_aug\n",
      "/home/manos/servers/jupyterhub/user_dirs/manos/AUEB Data Science/6 - Deep Learning (INF401) - Prodromos Malakasiotis/Assignments/Assignment 2/models/densenet201/densenet201_in.256.256.3_p.avg_tla.690__wc_aug\n"
     ]
    },
    {
     "data": {
      "text/html": [
       "<div>\n",
       "<style scoped>\n",
       "    .dataframe tbody tr th:only-of-type {\n",
       "        vertical-align: middle;\n",
       "    }\n",
       "\n",
       "    .dataframe tbody tr th {\n",
       "        vertical-align: top;\n",
       "    }\n",
       "\n",
       "    .dataframe thead th {\n",
       "        text-align: right;\n",
       "    }\n",
       "</style>\n",
       "<table border=\"1\" class=\"dataframe\">\n",
       "  <thead>\n",
       "    <tr style=\"text-align: right;\">\n",
       "      <th></th>\n",
       "      <th>loss</th>\n",
       "      <th>auc</th>\n",
       "      <th>accuracy</th>\n",
       "      <th>kappa</th>\n",
       "      <th>val_loss</th>\n",
       "      <th>val_auc</th>\n",
       "      <th>val_accuracy</th>\n",
       "      <th>val_kappa</th>\n",
       "      <th>lr</th>\n",
       "    </tr>\n",
       "  </thead>\n",
       "  <tbody>\n",
       "    <tr>\n",
       "      <th>12</th>\n",
       "      <td>0.450714</td>\n",
       "      <td>0.867356</td>\n",
       "      <td>0.797188</td>\n",
       "      <td>0.579077</td>\n",
       "      <td>0.447754</td>\n",
       "      <td>0.861412</td>\n",
       "      <td>0.805352</td>\n",
       "      <td>0.58628</td>\n",
       "      <td>0.001</td>\n",
       "    </tr>\n",
       "  </tbody>\n",
       "</table>\n",
       "</div>"
      ],
      "text/plain": [
       "        loss       auc  accuracy     kappa  val_loss   val_auc  val_accuracy  \\\n",
       "12  0.450714  0.867356  0.797188  0.579077  0.447754  0.861412      0.805352   \n",
       "\n",
       "    val_kappa     lr  \n",
       "12    0.58628  0.001  "
      ]
     },
     "metadata": {},
     "output_type": "display_data"
    },
    {
     "data": {
      "text/html": [
       "<div>\n",
       "<style scoped>\n",
       "    .dataframe tbody tr th:only-of-type {\n",
       "        vertical-align: middle;\n",
       "    }\n",
       "\n",
       "    .dataframe tbody tr th {\n",
       "        vertical-align: top;\n",
       "    }\n",
       "\n",
       "    .dataframe thead th {\n",
       "        text-align: right;\n",
       "    }\n",
       "</style>\n",
       "<table border=\"1\" class=\"dataframe\">\n",
       "  <thead>\n",
       "    <tr style=\"text-align: right;\">\n",
       "      <th></th>\n",
       "      <th>loss</th>\n",
       "      <th>auc</th>\n",
       "      <th>accuracy</th>\n",
       "      <th>kappa</th>\n",
       "    </tr>\n",
       "  </thead>\n",
       "  <tbody>\n",
       "    <tr>\n",
       "      <th>0</th>\n",
       "      <td>0.470435</td>\n",
       "      <td>0.854715</td>\n",
       "      <td>0.785111</td>\n",
       "      <td>0.566368</td>\n",
       "    </tr>\n",
       "  </tbody>\n",
       "</table>\n",
       "</div>"
      ],
      "text/plain": [
       "       loss       auc  accuracy     kappa\n",
       "0  0.470435  0.854715  0.785111  0.566368"
      ]
     },
     "metadata": {},
     "output_type": "display_data"
    }
   ],
   "source": [
    "densenet201 = densenet201_builder(pooling='avg', trainable_layers_after=690)\n",
    "modelStats = runner.run(model=densenet201, overwrite=False, verbose=1, weight_classes=True, augment=True)\n",
    "display(modelStats.getBestEpoch())\n",
    "display(modelStats.getEvaluation())"
   ]
  },
  {
   "cell_type": "code",
   "execution_count": 20,
   "metadata": {},
   "outputs": [
    {
     "name": "stdout",
     "output_type": "stream",
     "text": [
      "Number of layers in network 708\n",
      "densenet201/densenet201_in.256.256.3_p.avg_tla.606__wc_aug\n",
      "/home/manos/servers/jupyterhub/user_dirs/manos/AUEB Data Science/6 - Deep Learning (INF401) - Prodromos Malakasiotis/Assignments/Assignment 2/models/densenet201/densenet201_in.256.256.3_p.avg_tla.606__wc_aug\n"
     ]
    },
    {
     "data": {
      "text/html": [
       "<div>\n",
       "<style scoped>\n",
       "    .dataframe tbody tr th:only-of-type {\n",
       "        vertical-align: middle;\n",
       "    }\n",
       "\n",
       "    .dataframe tbody tr th {\n",
       "        vertical-align: top;\n",
       "    }\n",
       "\n",
       "    .dataframe thead th {\n",
       "        text-align: right;\n",
       "    }\n",
       "</style>\n",
       "<table border=\"1\" class=\"dataframe\">\n",
       "  <thead>\n",
       "    <tr style=\"text-align: right;\">\n",
       "      <th></th>\n",
       "      <th>loss</th>\n",
       "      <th>auc</th>\n",
       "      <th>accuracy</th>\n",
       "      <th>kappa</th>\n",
       "      <th>val_loss</th>\n",
       "      <th>val_auc</th>\n",
       "      <th>val_accuracy</th>\n",
       "      <th>val_kappa</th>\n",
       "      <th>lr</th>\n",
       "    </tr>\n",
       "  </thead>\n",
       "  <tbody>\n",
       "    <tr>\n",
       "      <th>14</th>\n",
       "      <td>0.385091</td>\n",
       "      <td>0.904644</td>\n",
       "      <td>0.836005</td>\n",
       "      <td>0.658738</td>\n",
       "      <td>0.453654</td>\n",
       "      <td>0.86503</td>\n",
       "      <td>0.810513</td>\n",
       "      <td>0.600481</td>\n",
       "      <td>0.0002</td>\n",
       "    </tr>\n",
       "  </tbody>\n",
       "</table>\n",
       "</div>"
      ],
      "text/plain": [
       "        loss       auc  accuracy     kappa  val_loss  val_auc  val_accuracy  \\\n",
       "14  0.385091  0.904644  0.836005  0.658738  0.453654  0.86503      0.810513   \n",
       "\n",
       "    val_kappa      lr  \n",
       "14   0.600481  0.0002  "
      ]
     },
     "metadata": {},
     "output_type": "display_data"
    },
    {
     "data": {
      "text/html": [
       "<div>\n",
       "<style scoped>\n",
       "    .dataframe tbody tr th:only-of-type {\n",
       "        vertical-align: middle;\n",
       "    }\n",
       "\n",
       "    .dataframe tbody tr th {\n",
       "        vertical-align: top;\n",
       "    }\n",
       "\n",
       "    .dataframe thead th {\n",
       "        text-align: right;\n",
       "    }\n",
       "</style>\n",
       "<table border=\"1\" class=\"dataframe\">\n",
       "  <thead>\n",
       "    <tr style=\"text-align: right;\">\n",
       "      <th></th>\n",
       "      <th>loss</th>\n",
       "      <th>auc</th>\n",
       "      <th>accuracy</th>\n",
       "      <th>kappa</th>\n",
       "    </tr>\n",
       "  </thead>\n",
       "  <tbody>\n",
       "    <tr>\n",
       "      <th>0</th>\n",
       "      <td>0.488483</td>\n",
       "      <td>0.85561</td>\n",
       "      <td>0.788865</td>\n",
       "      <td>0.574679</td>\n",
       "    </tr>\n",
       "  </tbody>\n",
       "</table>\n",
       "</div>"
      ],
      "text/plain": [
       "       loss      auc  accuracy     kappa\n",
       "0  0.488483  0.85561  0.788865  0.574679"
      ]
     },
     "metadata": {},
     "output_type": "display_data"
    }
   ],
   "source": [
    "densenet201 = densenet201_builder(pooling='avg', trainable_layers_after=606)\n",
    "modelStats = runner.run(model=densenet201, overwrite=False, verbose=1, weight_classes=True, augment=True)\n",
    "display(modelStats.getBestEpoch())\n",
    "display(modelStats.getEvaluation())"
   ]
  },
  {
   "cell_type": "code",
   "execution_count": 33,
   "metadata": {},
   "outputs": [
    {
     "name": "stdout",
     "output_type": "stream",
     "text": [
      "Number of layers in network 708\n",
      "0 512 0.25\n",
      "1 512 0.25\n",
      "Tensor(\"input_2:0\", shape=(None, 256, 256, 3), dtype=float32)\n",
      "Tensor(\"densenet_output_sigmoid_2/Identity:0\", shape=(None, 1), dtype=float32)\n",
      "densenet201/densenet201_in.256.256.3_p.avg_tla.606_m.512.512_mdp.0.25__wc_aug\n",
      "/home/manos/servers/jupyterhub/user_dirs/manos/AUEB Data Science/6 - Deep Learning (INF401) - Prodromos Malakasiotis/Assignments/Assignment 2/models/densenet201/densenet201_in.256.256.3_p.avg_tla.606_m.512.512_mdp.0.25__wc_aug\n"
     ]
    },
    {
     "data": {
      "text/html": [
       "<div>\n",
       "<style scoped>\n",
       "    .dataframe tbody tr th:only-of-type {\n",
       "        vertical-align: middle;\n",
       "    }\n",
       "\n",
       "    .dataframe tbody tr th {\n",
       "        vertical-align: top;\n",
       "    }\n",
       "\n",
       "    .dataframe thead th {\n",
       "        text-align: right;\n",
       "    }\n",
       "</style>\n",
       "<table border=\"1\" class=\"dataframe\">\n",
       "  <thead>\n",
       "    <tr style=\"text-align: right;\">\n",
       "      <th></th>\n",
       "      <th>loss</th>\n",
       "      <th>auc</th>\n",
       "      <th>accuracy</th>\n",
       "      <th>kappa</th>\n",
       "      <th>val_loss</th>\n",
       "      <th>val_auc</th>\n",
       "      <th>val_accuracy</th>\n",
       "      <th>val_kappa</th>\n",
       "      <th>lr</th>\n",
       "    </tr>\n",
       "  </thead>\n",
       "  <tbody>\n",
       "    <tr>\n",
       "      <th>15</th>\n",
       "      <td>0.397329</td>\n",
       "      <td>0.896763</td>\n",
       "      <td>0.830062</td>\n",
       "      <td>0.644312</td>\n",
       "      <td>0.436237</td>\n",
       "      <td>0.865107</td>\n",
       "      <td>0.81323</td>\n",
       "      <td>0.600592</td>\n",
       "      <td>0.0002</td>\n",
       "    </tr>\n",
       "  </tbody>\n",
       "</table>\n",
       "</div>"
      ],
      "text/plain": [
       "        loss       auc  accuracy     kappa  val_loss   val_auc  val_accuracy  \\\n",
       "15  0.397329  0.896763  0.830062  0.644312  0.436237  0.865107       0.81323   \n",
       "\n",
       "    val_kappa      lr  \n",
       "15   0.600592  0.0002  "
      ]
     },
     "metadata": {},
     "output_type": "display_data"
    },
    {
     "data": {
      "text/html": [
       "<div>\n",
       "<style scoped>\n",
       "    .dataframe tbody tr th:only-of-type {\n",
       "        vertical-align: middle;\n",
       "    }\n",
       "\n",
       "    .dataframe tbody tr th {\n",
       "        vertical-align: top;\n",
       "    }\n",
       "\n",
       "    .dataframe thead th {\n",
       "        text-align: right;\n",
       "    }\n",
       "</style>\n",
       "<table border=\"1\" class=\"dataframe\">\n",
       "  <thead>\n",
       "    <tr style=\"text-align: right;\">\n",
       "      <th></th>\n",
       "      <th>loss</th>\n",
       "      <th>auc</th>\n",
       "      <th>accuracy</th>\n",
       "      <th>kappa</th>\n",
       "    </tr>\n",
       "  </thead>\n",
       "  <tbody>\n",
       "    <tr>\n",
       "      <th>0</th>\n",
       "      <td>0.457029</td>\n",
       "      <td>0.859627</td>\n",
       "      <td>0.800751</td>\n",
       "      <td>0.597819</td>\n",
       "    </tr>\n",
       "  </tbody>\n",
       "</table>\n",
       "</div>"
      ],
      "text/plain": [
       "       loss       auc  accuracy     kappa\n",
       "0  0.457029  0.859627  0.800751  0.597819"
      ]
     },
     "metadata": {},
     "output_type": "display_data"
    }
   ],
   "source": [
    "densenet201 = densenet201_builder(pooling='avg', trainable_layers_after=606, mlp=[512, 512], mlp_dropout=0.25)\n",
    "modelStats = runner.run(model=densenet201, overwrite=False, verbose=1, weight_classes=True, augment=True)\n",
    "display(modelStats.getBestEpoch())\n",
    "display(modelStats.getEvaluation())"
   ]
  },
  {
   "cell_type": "markdown",
   "metadata": {},
   "source": [
    "# ResNet"
   ]
  },
  {
   "cell_type": "code",
   "execution_count": null,
   "metadata": {},
   "outputs": [],
   "source": [
    "# from src.models.builders import resnet152v2_builder"
   ]
  },
  {
   "cell_type": "code",
   "execution_count": 8,
   "metadata": {},
   "outputs": [],
   "source": [
    "# resnet152v2 = resnet152v2_builder(pooling='avg')\n",
    "# modelStats = runner.run(model=resnet152v2, overwrite=False, verbose=1, weight_classes=True, augment=True)"
   ]
  },
  {
   "cell_type": "code",
   "execution_count": null,
   "metadata": {},
   "outputs": [],
   "source": []
  }
 ],
 "metadata": {
  "kernelspec": {
   "display_name": "deep-learning-2",
   "language": "python",
   "name": "deep-learning-2"
  },
  "language_info": {
   "codemirror_mode": {
    "name": "ipython",
    "version": 3
   },
   "file_extension": ".py",
   "mimetype": "text/x-python",
   "name": "python",
   "nbconvert_exporter": "python",
   "pygments_lexer": "ipython3",
   "version": "3.8.3"
  },
  "widgets": {
   "application/vnd.jupyter.widget-state+json": {
    "state": {},
    "version_major": 2,
    "version_minor": 0
   }
  }
 },
 "nbformat": 4,
 "nbformat_minor": 4
}
