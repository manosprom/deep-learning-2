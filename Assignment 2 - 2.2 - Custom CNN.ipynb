{
 "cells": [
  {
   "cell_type": "markdown",
   "metadata": {},
   "source": [
    "# Mura Custom CNN"
   ]
  },
  {
   "cell_type": "code",
   "execution_count": null,
   "metadata": {},
   "outputs": [],
   "source": [
    "%load_ext autoreload\n",
    "%autoreload 2\n",
    "\n",
    "import sys\n",
    "\n",
    "# sys.path.append(\"../src\")"
   ]
  },
  {
   "cell_type": "markdown",
   "metadata": {},
   "source": [
    "# Set seeds for reproducible examples"
   ]
  },
  {
   "cell_type": "markdown",
   "metadata": {},
   "source": [
    "# Load MURA dataset"
   ]
  },
  {
   "cell_type": "code",
   "execution_count": 2,
   "metadata": {},
   "outputs": [
    {
     "name": "stdout",
     "output_type": "stream",
     "text": [
      "augment:  False - train:  False\n",
      "Found 3197 validated image filenames.\n"
     ]
    }
   ],
   "source": [
    "from src.MuraLoader import MuraLoader\n",
    "\n",
    "muraLoader = MuraLoader()\n",
    "\n",
    "_, _, test_set = muraLoader.get_sets(0.2)\n",
    "test_generator = muraLoader.get_generator(test_set)"
   ]
  },
  {
   "cell_type": "code",
   "execution_count": 3,
   "metadata": {},
   "outputs": [],
   "source": [
    "from src.models.ModelRunner import ModelRunner\n",
    "from src.models.builders import custom_cnn_builder"
   ]
  },
  {
   "cell_type": "code",
   "execution_count": 4,
   "metadata": {},
   "outputs": [],
   "source": [
    "runner = ModelRunner(muraLoader)"
   ]
  },
  {
   "cell_type": "markdown",
   "metadata": {},
   "source": [
    "## Initial"
   ]
  },
  {
   "cell_type": "markdown",
   "metadata": {},
   "source": [
    "### 32 Starting Filters 1 Conv per layers No BatchNorm"
   ]
  },
  {
   "cell_type": "code",
   "execution_count": 5,
   "metadata": {},
   "outputs": [
    {
     "name": "stdout",
     "output_type": "stream",
     "text": [
      "custom/cnn_in.256.256.3_cl.1.1_f.32_ck.3.3_p.max_ps.2.2_pstr.2.2\n",
      "/home/manos/servers/jupyterhub/user_dirs/manos/AUEB Data Science/6 - Deep Learning (INF401) - Prodromos Malakasiotis/Assignments/Assignment 2/models/custom/cnn_in.256.256.3_cl.1.1_f.32_ck.3.3_p.max_ps.2.2_pstr.2.2\n"
     ]
    },
    {
     "data": {
      "text/html": [
       "<div>\n",
       "<style scoped>\n",
       "    .dataframe tbody tr th:only-of-type {\n",
       "        vertical-align: middle;\n",
       "    }\n",
       "\n",
       "    .dataframe tbody tr th {\n",
       "        vertical-align: top;\n",
       "    }\n",
       "\n",
       "    .dataframe thead th {\n",
       "        text-align: right;\n",
       "    }\n",
       "</style>\n",
       "<table border=\"1\" class=\"dataframe\">\n",
       "  <thead>\n",
       "    <tr style=\"text-align: right;\">\n",
       "      <th></th>\n",
       "      <th>loss</th>\n",
       "      <th>auc</th>\n",
       "      <th>accuracy</th>\n",
       "      <th>kappa</th>\n",
       "      <th>val_loss</th>\n",
       "      <th>val_auc</th>\n",
       "      <th>val_accuracy</th>\n",
       "      <th>val_kappa</th>\n",
       "      <th>lr</th>\n",
       "    </tr>\n",
       "  </thead>\n",
       "  <tbody>\n",
       "    <tr>\n",
       "      <th>0</th>\n",
       "      <td>0.700094</td>\n",
       "      <td>0.599163</td>\n",
       "      <td>0.603953</td>\n",
       "      <td>0.10009</td>\n",
       "      <td>0.649306</td>\n",
       "      <td>0.633415</td>\n",
       "      <td>0.621978</td>\n",
       "      <td>0.127744</td>\n",
       "      <td>0.001</td>\n",
       "    </tr>\n",
       "  </tbody>\n",
       "</table>\n",
       "</div>"
      ],
      "text/plain": [
       "       loss       auc  accuracy    kappa  val_loss   val_auc  val_accuracy  \\\n",
       "0  0.700094  0.599163  0.603953  0.10009  0.649306  0.633415      0.621978   \n",
       "\n",
       "   val_kappa     lr  \n",
       "0   0.127744  0.001  "
      ]
     },
     "metadata": {},
     "output_type": "display_data"
    },
    {
     "data": {
      "text/html": [
       "<div>\n",
       "<style scoped>\n",
       "    .dataframe tbody tr th:only-of-type {\n",
       "        vertical-align: middle;\n",
       "    }\n",
       "\n",
       "    .dataframe tbody tr th {\n",
       "        vertical-align: top;\n",
       "    }\n",
       "\n",
       "    .dataframe thead th {\n",
       "        text-align: right;\n",
       "    }\n",
       "</style>\n",
       "<table border=\"1\" class=\"dataframe\">\n",
       "  <thead>\n",
       "    <tr style=\"text-align: right;\">\n",
       "      <th></th>\n",
       "      <th>loss</th>\n",
       "      <th>auc</th>\n",
       "      <th>accuracy</th>\n",
       "      <th>kappa</th>\n",
       "    </tr>\n",
       "  </thead>\n",
       "  <tbody>\n",
       "    <tr>\n",
       "      <th>0</th>\n",
       "      <td>0.70713</td>\n",
       "      <td>0.597484</td>\n",
       "      <td>0.551142</td>\n",
       "      <td>0.073996</td>\n",
       "    </tr>\n",
       "  </tbody>\n",
       "</table>\n",
       "</div>"
      ],
      "text/plain": [
       "      loss       auc  accuracy     kappa\n",
       "0  0.70713  0.597484  0.551142  0.073996"
      ]
     },
     "metadata": {},
     "output_type": "display_data"
    }
   ],
   "source": [
    "custom_cnn_model = custom_cnn_builder(starting_filters=32, conv_layers=1, convs_per_layer=1, pooling='max', batch_norm=False)\n",
    "modelStats = runner.run(model=custom_cnn_model, overwrite=False, verbose=1)\n",
    "display(modelStats.getBestEpoch())\n",
    "display(modelStats.getEvaluation())"
   ]
  },
  {
   "cell_type": "markdown",
   "metadata": {},
   "source": [
    "## 2 Layers"
   ]
  },
  {
   "cell_type": "markdown",
   "metadata": {},
   "source": [
    "### 2 Layers Base"
   ]
  },
  {
   "cell_type": "code",
   "execution_count": 6,
   "metadata": {},
   "outputs": [
    {
     "name": "stdout",
     "output_type": "stream",
     "text": [
      "custom/cnn_in.256.256.3_cl.2.1_f.32_ck.3.3_p.max_ps.2.2_pstr.2.2\n",
      "/home/manos/servers/jupyterhub/user_dirs/manos/AUEB Data Science/6 - Deep Learning (INF401) - Prodromos Malakasiotis/Assignments/Assignment 2/models/custom/cnn_in.256.256.3_cl.2.1_f.32_ck.3.3_p.max_ps.2.2_pstr.2.2\n"
     ]
    },
    {
     "data": {
      "text/html": [
       "<div>\n",
       "<style scoped>\n",
       "    .dataframe tbody tr th:only-of-type {\n",
       "        vertical-align: middle;\n",
       "    }\n",
       "\n",
       "    .dataframe tbody tr th {\n",
       "        vertical-align: top;\n",
       "    }\n",
       "\n",
       "    .dataframe thead th {\n",
       "        text-align: right;\n",
       "    }\n",
       "</style>\n",
       "<table border=\"1\" class=\"dataframe\">\n",
       "  <thead>\n",
       "    <tr style=\"text-align: right;\">\n",
       "      <th></th>\n",
       "      <th>loss</th>\n",
       "      <th>auc</th>\n",
       "      <th>accuracy</th>\n",
       "      <th>kappa</th>\n",
       "      <th>val_loss</th>\n",
       "      <th>val_auc</th>\n",
       "      <th>val_accuracy</th>\n",
       "      <th>val_kappa</th>\n",
       "      <th>lr</th>\n",
       "    </tr>\n",
       "  </thead>\n",
       "  <tbody>\n",
       "    <tr>\n",
       "      <th>0</th>\n",
       "      <td>0.664033</td>\n",
       "      <td>0.600682</td>\n",
       "      <td>0.605991</td>\n",
       "      <td>0.083469</td>\n",
       "      <td>0.644612</td>\n",
       "      <td>0.642006</td>\n",
       "      <td>0.619533</td>\n",
       "      <td>0.134486</td>\n",
       "      <td>0.001</td>\n",
       "    </tr>\n",
       "  </tbody>\n",
       "</table>\n",
       "</div>"
      ],
      "text/plain": [
       "       loss       auc  accuracy     kappa  val_loss   val_auc  val_accuracy  \\\n",
       "0  0.664033  0.600682  0.605991  0.083469  0.644612  0.642006      0.619533   \n",
       "\n",
       "   val_kappa     lr  \n",
       "0   0.134486  0.001  "
      ]
     },
     "metadata": {},
     "output_type": "display_data"
    },
    {
     "data": {
      "text/html": [
       "<div>\n",
       "<style scoped>\n",
       "    .dataframe tbody tr th:only-of-type {\n",
       "        vertical-align: middle;\n",
       "    }\n",
       "\n",
       "    .dataframe tbody tr th {\n",
       "        vertical-align: top;\n",
       "    }\n",
       "\n",
       "    .dataframe thead th {\n",
       "        text-align: right;\n",
       "    }\n",
       "</style>\n",
       "<table border=\"1\" class=\"dataframe\">\n",
       "  <thead>\n",
       "    <tr style=\"text-align: right;\">\n",
       "      <th></th>\n",
       "      <th>loss</th>\n",
       "      <th>auc</th>\n",
       "      <th>accuracy</th>\n",
       "      <th>kappa</th>\n",
       "    </tr>\n",
       "  </thead>\n",
       "  <tbody>\n",
       "    <tr>\n",
       "      <th>0</th>\n",
       "      <td>0.677572</td>\n",
       "      <td>0.62057</td>\n",
       "      <td>0.557085</td>\n",
       "      <td>0.089203</td>\n",
       "    </tr>\n",
       "  </tbody>\n",
       "</table>\n",
       "</div>"
      ],
      "text/plain": [
       "       loss      auc  accuracy     kappa\n",
       "0  0.677572  0.62057  0.557085  0.089203"
      ]
     },
     "metadata": {},
     "output_type": "display_data"
    }
   ],
   "source": [
    "custom_cnn_model = custom_cnn_builder(starting_filters=32, conv_layers=2, convs_per_layer=1, pooling='max', batch_norm=False)\n",
    "modelStats = runner.run(model=custom_cnn_model, overwrite=False, verbose=1)\n",
    "display(modelStats.getBestEpoch())\n",
    "display(modelStats.getEvaluation())"
   ]
  },
  {
   "cell_type": "markdown",
   "metadata": {},
   "source": [
    "### 2 layer with dropout (not good)"
   ]
  },
  {
   "cell_type": "code",
   "execution_count": 7,
   "metadata": {},
   "outputs": [
    {
     "name": "stdout",
     "output_type": "stream",
     "text": [
      "custom/cnn_in.256.256.3_cl.2.1_f.32_ck.3.3_p.max_ps.2.2_pstr.2.2_dp.0.25\n",
      "/home/manos/servers/jupyterhub/user_dirs/manos/AUEB Data Science/6 - Deep Learning (INF401) - Prodromos Malakasiotis/Assignments/Assignment 2/models/custom/cnn_in.256.256.3_cl.2.1_f.32_ck.3.3_p.max_ps.2.2_pstr.2.2_dp.0.25\n"
     ]
    },
    {
     "data": {
      "text/html": [
       "<div>\n",
       "<style scoped>\n",
       "    .dataframe tbody tr th:only-of-type {\n",
       "        vertical-align: middle;\n",
       "    }\n",
       "\n",
       "    .dataframe tbody tr th {\n",
       "        vertical-align: top;\n",
       "    }\n",
       "\n",
       "    .dataframe thead th {\n",
       "        text-align: right;\n",
       "    }\n",
       "</style>\n",
       "<table border=\"1\" class=\"dataframe\">\n",
       "  <thead>\n",
       "    <tr style=\"text-align: right;\">\n",
       "      <th></th>\n",
       "      <th>loss</th>\n",
       "      <th>auc</th>\n",
       "      <th>accuracy</th>\n",
       "      <th>kappa</th>\n",
       "      <th>val_loss</th>\n",
       "      <th>val_auc</th>\n",
       "      <th>val_accuracy</th>\n",
       "      <th>val_kappa</th>\n",
       "      <th>lr</th>\n",
       "    </tr>\n",
       "  </thead>\n",
       "  <tbody>\n",
       "    <tr>\n",
       "      <th>1</th>\n",
       "      <td>0.632668</td>\n",
       "      <td>0.661316</td>\n",
       "      <td>0.636793</td>\n",
       "      <td>0.185789</td>\n",
       "      <td>0.639524</td>\n",
       "      <td>0.656214</td>\n",
       "      <td>0.63298</td>\n",
       "      <td>0.156428</td>\n",
       "      <td>0.001</td>\n",
       "    </tr>\n",
       "  </tbody>\n",
       "</table>\n",
       "</div>"
      ],
      "text/plain": [
       "       loss       auc  accuracy     kappa  val_loss   val_auc  val_accuracy  \\\n",
       "1  0.632668  0.661316  0.636793  0.185789  0.639524  0.656214       0.63298   \n",
       "\n",
       "   val_kappa     lr  \n",
       "1   0.156428  0.001  "
      ]
     },
     "metadata": {},
     "output_type": "display_data"
    },
    {
     "data": {
      "text/html": [
       "<div>\n",
       "<style scoped>\n",
       "    .dataframe tbody tr th:only-of-type {\n",
       "        vertical-align: middle;\n",
       "    }\n",
       "\n",
       "    .dataframe tbody tr th {\n",
       "        vertical-align: top;\n",
       "    }\n",
       "\n",
       "    .dataframe thead th {\n",
       "        text-align: right;\n",
       "    }\n",
       "</style>\n",
       "<table border=\"1\" class=\"dataframe\">\n",
       "  <thead>\n",
       "    <tr style=\"text-align: right;\">\n",
       "      <th></th>\n",
       "      <th>loss</th>\n",
       "      <th>auc</th>\n",
       "      <th>accuracy</th>\n",
       "      <th>kappa</th>\n",
       "    </tr>\n",
       "  </thead>\n",
       "  <tbody>\n",
       "    <tr>\n",
       "      <th>0</th>\n",
       "      <td>0.70048</td>\n",
       "      <td>0.625505</td>\n",
       "      <td>0.573037</td>\n",
       "      <td>0.120237</td>\n",
       "    </tr>\n",
       "  </tbody>\n",
       "</table>\n",
       "</div>"
      ],
      "text/plain": [
       "      loss       auc  accuracy     kappa\n",
       "0  0.70048  0.625505  0.573037  0.120237"
      ]
     },
     "metadata": {},
     "output_type": "display_data"
    }
   ],
   "source": [
    "custom_cnn_model = custom_cnn_builder(starting_filters=32, conv_layers=2, convs_per_layer=1, pooling='max', batch_norm=False, dropout=0.25)\n",
    "modelStats = runner.run(model=custom_cnn_model, overwrite=False, verbose=1)\n",
    "display(modelStats.getBestEpoch())\n",
    "display(modelStats.getEvaluation())"
   ]
  },
  {
   "cell_type": "code",
   "execution_count": 8,
   "metadata": {},
   "outputs": [
    {
     "name": "stdout",
     "output_type": "stream",
     "text": [
      "custom/cnn_in.256.256.3_cl.2.1_f.32_ck.3.3_p.max_ps.2.2_pstr.2.2_spdp.0.25\n",
      "/home/manos/servers/jupyterhub/user_dirs/manos/AUEB Data Science/6 - Deep Learning (INF401) - Prodromos Malakasiotis/Assignments/Assignment 2/models/custom/cnn_in.256.256.3_cl.2.1_f.32_ck.3.3_p.max_ps.2.2_pstr.2.2_spdp.0.25\n"
     ]
    },
    {
     "data": {
      "text/html": [
       "<div>\n",
       "<style scoped>\n",
       "    .dataframe tbody tr th:only-of-type {\n",
       "        vertical-align: middle;\n",
       "    }\n",
       "\n",
       "    .dataframe tbody tr th {\n",
       "        vertical-align: top;\n",
       "    }\n",
       "\n",
       "    .dataframe thead th {\n",
       "        text-align: right;\n",
       "    }\n",
       "</style>\n",
       "<table border=\"1\" class=\"dataframe\">\n",
       "  <thead>\n",
       "    <tr style=\"text-align: right;\">\n",
       "      <th></th>\n",
       "      <th>loss</th>\n",
       "      <th>auc</th>\n",
       "      <th>accuracy</th>\n",
       "      <th>kappa</th>\n",
       "      <th>val_loss</th>\n",
       "      <th>val_auc</th>\n",
       "      <th>val_accuracy</th>\n",
       "      <th>val_kappa</th>\n",
       "      <th>lr</th>\n",
       "    </tr>\n",
       "  </thead>\n",
       "  <tbody>\n",
       "    <tr>\n",
       "      <th>0</th>\n",
       "      <td>0.672127</td>\n",
       "      <td>0.577829</td>\n",
       "      <td>0.600048</td>\n",
       "      <td>0.072162</td>\n",
       "      <td>0.651159</td>\n",
       "      <td>0.623715</td>\n",
       "      <td>0.612062</td>\n",
       "      <td>0.104488</td>\n",
       "      <td>0.001</td>\n",
       "    </tr>\n",
       "  </tbody>\n",
       "</table>\n",
       "</div>"
      ],
      "text/plain": [
       "       loss       auc  accuracy     kappa  val_loss   val_auc  val_accuracy  \\\n",
       "0  0.672127  0.577829  0.600048  0.072162  0.651159  0.623715      0.612062   \n",
       "\n",
       "   val_kappa     lr  \n",
       "0   0.104488  0.001  "
      ]
     },
     "metadata": {},
     "output_type": "display_data"
    },
    {
     "data": {
      "text/html": [
       "<div>\n",
       "<style scoped>\n",
       "    .dataframe tbody tr th:only-of-type {\n",
       "        vertical-align: middle;\n",
       "    }\n",
       "\n",
       "    .dataframe tbody tr th {\n",
       "        vertical-align: top;\n",
       "    }\n",
       "\n",
       "    .dataframe thead th {\n",
       "        text-align: right;\n",
       "    }\n",
       "</style>\n",
       "<table border=\"1\" class=\"dataframe\">\n",
       "  <thead>\n",
       "    <tr style=\"text-align: right;\">\n",
       "      <th></th>\n",
       "      <th>loss</th>\n",
       "      <th>auc</th>\n",
       "      <th>accuracy</th>\n",
       "      <th>kappa</th>\n",
       "    </tr>\n",
       "  </thead>\n",
       "  <tbody>\n",
       "    <tr>\n",
       "      <th>0</th>\n",
       "      <td>0.691758</td>\n",
       "      <td>0.608521</td>\n",
       "      <td>0.554895</td>\n",
       "      <td>0.082095</td>\n",
       "    </tr>\n",
       "  </tbody>\n",
       "</table>\n",
       "</div>"
      ],
      "text/plain": [
       "       loss       auc  accuracy     kappa\n",
       "0  0.691758  0.608521  0.554895  0.082095"
      ]
     },
     "metadata": {},
     "output_type": "display_data"
    }
   ],
   "source": [
    "custom_cnn_model = custom_cnn_builder(starting_filters=32, conv_layers=2, convs_per_layer=1, pooling='max', batch_norm=False, spatial_dropout=0.25)\n",
    "modelStats = runner.run(model=custom_cnn_model, overwrite=False, verbose=1)\n",
    "display(modelStats.getBestEpoch())\n",
    "display(modelStats.getEvaluation())"
   ]
  },
  {
   "cell_type": "markdown",
   "metadata": {},
   "source": [
    "## More Layers"
   ]
  },
  {
   "cell_type": "markdown",
   "metadata": {},
   "source": [
    "### Batch Norm with spatial Dropout"
   ]
  },
  {
   "cell_type": "code",
   "execution_count": 9,
   "metadata": {},
   "outputs": [
    {
     "name": "stdout",
     "output_type": "stream",
     "text": [
      "custom/cnn_in.256.256.3_cl.2.1_f.32_ck.3.3_bn_p.max_ps.2.2_pstr.2.2_spdp.0.25\n",
      "/home/manos/servers/jupyterhub/user_dirs/manos/AUEB Data Science/6 - Deep Learning (INF401) - Prodromos Malakasiotis/Assignments/Assignment 2/models/custom/cnn_in.256.256.3_cl.2.1_f.32_ck.3.3_bn_p.max_ps.2.2_pstr.2.2_spdp.0.25\n"
     ]
    },
    {
     "data": {
      "text/html": [
       "<div>\n",
       "<style scoped>\n",
       "    .dataframe tbody tr th:only-of-type {\n",
       "        vertical-align: middle;\n",
       "    }\n",
       "\n",
       "    .dataframe tbody tr th {\n",
       "        vertical-align: top;\n",
       "    }\n",
       "\n",
       "    .dataframe thead th {\n",
       "        text-align: right;\n",
       "    }\n",
       "</style>\n",
       "<table border=\"1\" class=\"dataframe\">\n",
       "  <thead>\n",
       "    <tr style=\"text-align: right;\">\n",
       "      <th></th>\n",
       "      <th>loss</th>\n",
       "      <th>auc</th>\n",
       "      <th>accuracy</th>\n",
       "      <th>kappa</th>\n",
       "      <th>val_loss</th>\n",
       "      <th>val_auc</th>\n",
       "      <th>val_accuracy</th>\n",
       "      <th>val_kappa</th>\n",
       "      <th>lr</th>\n",
       "    </tr>\n",
       "  </thead>\n",
       "  <tbody>\n",
       "    <tr>\n",
       "      <th>2</th>\n",
       "      <td>0.653159</td>\n",
       "      <td>0.645155</td>\n",
       "      <td>0.62905</td>\n",
       "      <td>0.188257</td>\n",
       "      <td>0.64778</td>\n",
       "      <td>0.633606</td>\n",
       "      <td>0.625645</td>\n",
       "      <td>0.154454</td>\n",
       "      <td>0.001</td>\n",
       "    </tr>\n",
       "  </tbody>\n",
       "</table>\n",
       "</div>"
      ],
      "text/plain": [
       "       loss       auc  accuracy     kappa  val_loss   val_auc  val_accuracy  \\\n",
       "2  0.653159  0.645155   0.62905  0.188257   0.64778  0.633606      0.625645   \n",
       "\n",
       "   val_kappa     lr  \n",
       "2   0.154454  0.001  "
      ]
     },
     "metadata": {},
     "output_type": "display_data"
    },
    {
     "data": {
      "text/html": [
       "<div>\n",
       "<style scoped>\n",
       "    .dataframe tbody tr th:only-of-type {\n",
       "        vertical-align: middle;\n",
       "    }\n",
       "\n",
       "    .dataframe tbody tr th {\n",
       "        vertical-align: top;\n",
       "    }\n",
       "\n",
       "    .dataframe thead th {\n",
       "        text-align: right;\n",
       "    }\n",
       "</style>\n",
       "<table border=\"1\" class=\"dataframe\">\n",
       "  <thead>\n",
       "    <tr style=\"text-align: right;\">\n",
       "      <th></th>\n",
       "      <th>loss</th>\n",
       "      <th>auc</th>\n",
       "      <th>accuracy</th>\n",
       "      <th>kappa</th>\n",
       "    </tr>\n",
       "  </thead>\n",
       "  <tbody>\n",
       "    <tr>\n",
       "      <th>0</th>\n",
       "      <td>0.679258</td>\n",
       "      <td>0.619031</td>\n",
       "      <td>0.578042</td>\n",
       "      <td>0.134089</td>\n",
       "    </tr>\n",
       "  </tbody>\n",
       "</table>\n",
       "</div>"
      ],
      "text/plain": [
       "       loss       auc  accuracy     kappa\n",
       "0  0.679258  0.619031  0.578042  0.134089"
      ]
     },
     "metadata": {},
     "output_type": "display_data"
    }
   ],
   "source": [
    "custom_cnn_model = custom_cnn_builder(starting_filters=32, conv_layers=2, convs_per_layer=1, pooling='max', batch_norm=True, spatial_dropout=0.25)\n",
    "modelStats = runner.run(model=custom_cnn_model, overwrite=False, verbose=1)\n",
    "display(modelStats.getBestEpoch())\n",
    "display(modelStats.getEvaluation())"
   ]
  },
  {
   "cell_type": "code",
   "execution_count": 10,
   "metadata": {},
   "outputs": [
    {
     "name": "stdout",
     "output_type": "stream",
     "text": [
      "custom/cnn_in.256.256.3_cl.3.1_f.32_ck.3.3_bn_p.max_ps.2.2_pstr.2.2_spdp.0.25\n",
      "/home/manos/servers/jupyterhub/user_dirs/manos/AUEB Data Science/6 - Deep Learning (INF401) - Prodromos Malakasiotis/Assignments/Assignment 2/models/custom/cnn_in.256.256.3_cl.3.1_f.32_ck.3.3_bn_p.max_ps.2.2_pstr.2.2_spdp.0.25\n"
     ]
    },
    {
     "data": {
      "text/html": [
       "<div>\n",
       "<style scoped>\n",
       "    .dataframe tbody tr th:only-of-type {\n",
       "        vertical-align: middle;\n",
       "    }\n",
       "\n",
       "    .dataframe tbody tr th {\n",
       "        vertical-align: top;\n",
       "    }\n",
       "\n",
       "    .dataframe thead th {\n",
       "        text-align: right;\n",
       "    }\n",
       "</style>\n",
       "<table border=\"1\" class=\"dataframe\">\n",
       "  <thead>\n",
       "    <tr style=\"text-align: right;\">\n",
       "      <th></th>\n",
       "      <th>loss</th>\n",
       "      <th>auc</th>\n",
       "      <th>accuracy</th>\n",
       "      <th>kappa</th>\n",
       "      <th>val_loss</th>\n",
       "      <th>val_auc</th>\n",
       "      <th>val_accuracy</th>\n",
       "      <th>val_kappa</th>\n",
       "      <th>lr</th>\n",
       "    </tr>\n",
       "  </thead>\n",
       "  <tbody>\n",
       "    <tr>\n",
       "      <th>5</th>\n",
       "      <td>0.61941</td>\n",
       "      <td>0.685242</td>\n",
       "      <td>0.657271</td>\n",
       "      <td>0.244508</td>\n",
       "      <td>0.634023</td>\n",
       "      <td>0.659384</td>\n",
       "      <td>0.633252</td>\n",
       "      <td>0.190498</td>\n",
       "      <td>0.001</td>\n",
       "    </tr>\n",
       "  </tbody>\n",
       "</table>\n",
       "</div>"
      ],
      "text/plain": [
       "      loss       auc  accuracy     kappa  val_loss   val_auc  val_accuracy  \\\n",
       "5  0.61941  0.685242  0.657271  0.244508  0.634023  0.659384      0.633252   \n",
       "\n",
       "   val_kappa     lr  \n",
       "5   0.190498  0.001  "
      ]
     },
     "metadata": {},
     "output_type": "display_data"
    },
    {
     "data": {
      "text/html": [
       "<div>\n",
       "<style scoped>\n",
       "    .dataframe tbody tr th:only-of-type {\n",
       "        vertical-align: middle;\n",
       "    }\n",
       "\n",
       "    .dataframe tbody tr th {\n",
       "        vertical-align: top;\n",
       "    }\n",
       "\n",
       "    .dataframe thead th {\n",
       "        text-align: right;\n",
       "    }\n",
       "</style>\n",
       "<table border=\"1\" class=\"dataframe\">\n",
       "  <thead>\n",
       "    <tr style=\"text-align: right;\">\n",
       "      <th></th>\n",
       "      <th>loss</th>\n",
       "      <th>auc</th>\n",
       "      <th>accuracy</th>\n",
       "      <th>kappa</th>\n",
       "    </tr>\n",
       "  </thead>\n",
       "  <tbody>\n",
       "    <tr>\n",
       "      <th>0</th>\n",
       "      <td>0.669043</td>\n",
       "      <td>0.639744</td>\n",
       "      <td>0.591492</td>\n",
       "      <td>0.1647</td>\n",
       "    </tr>\n",
       "  </tbody>\n",
       "</table>\n",
       "</div>"
      ],
      "text/plain": [
       "       loss       auc  accuracy   kappa\n",
       "0  0.669043  0.639744  0.591492  0.1647"
      ]
     },
     "metadata": {},
     "output_type": "display_data"
    }
   ],
   "source": [
    "custom_cnn_model = custom_cnn_builder(starting_filters=32, conv_layers=3, convs_per_layer=1, pooling='max', batch_norm=True, spatial_dropout=0.25)\n",
    "modelStats = runner.run(model=custom_cnn_model, overwrite=False, verbose=1)\n",
    "display(modelStats.getBestEpoch())\n",
    "display(modelStats.getEvaluation())"
   ]
  },
  {
   "cell_type": "code",
   "execution_count": 11,
   "metadata": {},
   "outputs": [
    {
     "name": "stdout",
     "output_type": "stream",
     "text": [
      "custom/cnn_in.256.256.3_cl.4.1_f.32_ck.3.3_bn_p.max_ps.2.2_pstr.2.2_spdp.0.25\n",
      "/home/manos/servers/jupyterhub/user_dirs/manos/AUEB Data Science/6 - Deep Learning (INF401) - Prodromos Malakasiotis/Assignments/Assignment 2/models/custom/cnn_in.256.256.3_cl.4.1_f.32_ck.3.3_bn_p.max_ps.2.2_pstr.2.2_spdp.0.25\n"
     ]
    },
    {
     "data": {
      "text/html": [
       "<div>\n",
       "<style scoped>\n",
       "    .dataframe tbody tr th:only-of-type {\n",
       "        vertical-align: middle;\n",
       "    }\n",
       "\n",
       "    .dataframe tbody tr th {\n",
       "        vertical-align: top;\n",
       "    }\n",
       "\n",
       "    .dataframe thead th {\n",
       "        text-align: right;\n",
       "    }\n",
       "</style>\n",
       "<table border=\"1\" class=\"dataframe\">\n",
       "  <thead>\n",
       "    <tr style=\"text-align: right;\">\n",
       "      <th></th>\n",
       "      <th>loss</th>\n",
       "      <th>auc</th>\n",
       "      <th>accuracy</th>\n",
       "      <th>kappa</th>\n",
       "      <th>val_loss</th>\n",
       "      <th>val_auc</th>\n",
       "      <th>val_accuracy</th>\n",
       "      <th>val_kappa</th>\n",
       "      <th>lr</th>\n",
       "    </tr>\n",
       "  </thead>\n",
       "  <tbody>\n",
       "    <tr>\n",
       "      <th>30</th>\n",
       "      <td>0.477818</td>\n",
       "      <td>0.840955</td>\n",
       "      <td>0.76788</td>\n",
       "      <td>0.504547</td>\n",
       "      <td>0.581089</td>\n",
       "      <td>0.750807</td>\n",
       "      <td>0.701168</td>\n",
       "      <td>0.364735</td>\n",
       "      <td>0.0002</td>\n",
       "    </tr>\n",
       "  </tbody>\n",
       "</table>\n",
       "</div>"
      ],
      "text/plain": [
       "        loss       auc  accuracy     kappa  val_loss   val_auc  val_accuracy  \\\n",
       "30  0.477818  0.840955   0.76788  0.504547  0.581089  0.750807      0.701168   \n",
       "\n",
       "    val_kappa      lr  \n",
       "30   0.364735  0.0002  "
      ]
     },
     "metadata": {},
     "output_type": "display_data"
    },
    {
     "data": {
      "text/html": [
       "<div>\n",
       "<style scoped>\n",
       "    .dataframe tbody tr th:only-of-type {\n",
       "        vertical-align: middle;\n",
       "    }\n",
       "\n",
       "    .dataframe tbody tr th {\n",
       "        vertical-align: top;\n",
       "    }\n",
       "\n",
       "    .dataframe thead th {\n",
       "        text-align: right;\n",
       "    }\n",
       "</style>\n",
       "<table border=\"1\" class=\"dataframe\">\n",
       "  <thead>\n",
       "    <tr style=\"text-align: right;\">\n",
       "      <th></th>\n",
       "      <th>loss</th>\n",
       "      <th>auc</th>\n",
       "      <th>accuracy</th>\n",
       "      <th>kappa</th>\n",
       "    </tr>\n",
       "  </thead>\n",
       "  <tbody>\n",
       "    <tr>\n",
       "      <th>0</th>\n",
       "      <td>0.657699</td>\n",
       "      <td>0.710309</td>\n",
       "      <td>0.652174</td>\n",
       "      <td>0.295844</td>\n",
       "    </tr>\n",
       "  </tbody>\n",
       "</table>\n",
       "</div>"
      ],
      "text/plain": [
       "       loss       auc  accuracy     kappa\n",
       "0  0.657699  0.710309  0.652174  0.295844"
      ]
     },
     "metadata": {},
     "output_type": "display_data"
    }
   ],
   "source": [
    "custom_cnn_model = custom_cnn_builder(starting_filters=32, conv_layers=4, convs_per_layer=1, pooling='max', batch_norm=True, spatial_dropout=0.25)\n",
    "modelStats = runner.run(model=custom_cnn_model, overwrite=False, verbose=1)\n",
    "display(modelStats.getBestEpoch())\n",
    "display(modelStats.getEvaluation())"
   ]
  },
  {
   "cell_type": "code",
   "execution_count": 12,
   "metadata": {},
   "outputs": [
    {
     "name": "stdout",
     "output_type": "stream",
     "text": [
      "custom/cnn_in.256.256.3_cl.5.1_f.32_ck.3.3_bn_p.max_ps.2.2_pstr.2.2_spdp.0.25\n",
      "/home/manos/servers/jupyterhub/user_dirs/manos/AUEB Data Science/6 - Deep Learning (INF401) - Prodromos Malakasiotis/Assignments/Assignment 2/models/custom/cnn_in.256.256.3_cl.5.1_f.32_ck.3.3_bn_p.max_ps.2.2_pstr.2.2_spdp.0.25\n"
     ]
    },
    {
     "data": {
      "text/html": [
       "<div>\n",
       "<style scoped>\n",
       "    .dataframe tbody tr th:only-of-type {\n",
       "        vertical-align: middle;\n",
       "    }\n",
       "\n",
       "    .dataframe tbody tr th {\n",
       "        vertical-align: top;\n",
       "    }\n",
       "\n",
       "    .dataframe thead th {\n",
       "        text-align: right;\n",
       "    }\n",
       "</style>\n",
       "<table border=\"1\" class=\"dataframe\">\n",
       "  <thead>\n",
       "    <tr style=\"text-align: right;\">\n",
       "      <th></th>\n",
       "      <th>loss</th>\n",
       "      <th>auc</th>\n",
       "      <th>accuracy</th>\n",
       "      <th>kappa</th>\n",
       "      <th>val_loss</th>\n",
       "      <th>val_auc</th>\n",
       "      <th>val_accuracy</th>\n",
       "      <th>val_kappa</th>\n",
       "      <th>lr</th>\n",
       "    </tr>\n",
       "  </thead>\n",
       "  <tbody>\n",
       "    <tr>\n",
       "      <th>37</th>\n",
       "      <td>0.485289</td>\n",
       "      <td>0.83297</td>\n",
       "      <td>0.767099</td>\n",
       "      <td>0.500693</td>\n",
       "      <td>0.529612</td>\n",
       "      <td>0.791019</td>\n",
       "      <td>0.743412</td>\n",
       "      <td>0.441136</td>\n",
       "      <td>0.001</td>\n",
       "    </tr>\n",
       "  </tbody>\n",
       "</table>\n",
       "</div>"
      ],
      "text/plain": [
       "        loss      auc  accuracy     kappa  val_loss   val_auc  val_accuracy  \\\n",
       "37  0.485289  0.83297  0.767099  0.500693  0.529612  0.791019      0.743412   \n",
       "\n",
       "    val_kappa     lr  \n",
       "37   0.441136  0.001  "
      ]
     },
     "metadata": {},
     "output_type": "display_data"
    },
    {
     "data": {
      "text/html": [
       "<div>\n",
       "<style scoped>\n",
       "    .dataframe tbody tr th:only-of-type {\n",
       "        vertical-align: middle;\n",
       "    }\n",
       "\n",
       "    .dataframe tbody tr th {\n",
       "        vertical-align: top;\n",
       "    }\n",
       "\n",
       "    .dataframe thead th {\n",
       "        text-align: right;\n",
       "    }\n",
       "</style>\n",
       "<table border=\"1\" class=\"dataframe\">\n",
       "  <thead>\n",
       "    <tr style=\"text-align: right;\">\n",
       "      <th></th>\n",
       "      <th>loss</th>\n",
       "      <th>auc</th>\n",
       "      <th>accuracy</th>\n",
       "      <th>kappa</th>\n",
       "    </tr>\n",
       "  </thead>\n",
       "  <tbody>\n",
       "    <tr>\n",
       "      <th>0</th>\n",
       "      <td>0.60531</td>\n",
       "      <td>0.760271</td>\n",
       "      <td>0.694088</td>\n",
       "      <td>0.378539</td>\n",
       "    </tr>\n",
       "  </tbody>\n",
       "</table>\n",
       "</div>"
      ],
      "text/plain": [
       "      loss       auc  accuracy     kappa\n",
       "0  0.60531  0.760271  0.694088  0.378539"
      ]
     },
     "metadata": {},
     "output_type": "display_data"
    }
   ],
   "source": [
    "custom_cnn_model = custom_cnn_builder(starting_filters=32, conv_layers=5, convs_per_layer=1, pooling='max', batch_norm=True, spatial_dropout=0.25)\n",
    "modelStats = runner.run(model=custom_cnn_model, overwrite=False, verbose=1)\n",
    "display(modelStats.getBestEpoch())\n",
    "display(modelStats.getEvaluation())"
   ]
  },
  {
   "cell_type": "code",
   "execution_count": 13,
   "metadata": {},
   "outputs": [
    {
     "name": "stdout",
     "output_type": "stream",
     "text": [
      "custom/cnn_in.256.256.3_cl.6.1_f.32_ck.3.3_bn_p.max_ps.2.2_pstr.2.2_spdp.0.25\n",
      "/home/manos/servers/jupyterhub/user_dirs/manos/AUEB Data Science/6 - Deep Learning (INF401) - Prodromos Malakasiotis/Assignments/Assignment 2/models/custom/cnn_in.256.256.3_cl.6.1_f.32_ck.3.3_bn_p.max_ps.2.2_pstr.2.2_spdp.0.25\n"
     ]
    },
    {
     "data": {
      "text/html": [
       "<div>\n",
       "<style scoped>\n",
       "    .dataframe tbody tr th:only-of-type {\n",
       "        vertical-align: middle;\n",
       "    }\n",
       "\n",
       "    .dataframe tbody tr th {\n",
       "        vertical-align: top;\n",
       "    }\n",
       "\n",
       "    .dataframe thead th {\n",
       "        text-align: right;\n",
       "    }\n",
       "</style>\n",
       "<table border=\"1\" class=\"dataframe\">\n",
       "  <thead>\n",
       "    <tr style=\"text-align: right;\">\n",
       "      <th></th>\n",
       "      <th>loss</th>\n",
       "      <th>auc</th>\n",
       "      <th>accuracy</th>\n",
       "      <th>kappa</th>\n",
       "      <th>val_loss</th>\n",
       "      <th>val_auc</th>\n",
       "      <th>val_accuracy</th>\n",
       "      <th>val_kappa</th>\n",
       "      <th>lr</th>\n",
       "    </tr>\n",
       "  </thead>\n",
       "  <tbody>\n",
       "    <tr>\n",
       "      <th>32</th>\n",
       "      <td>0.487798</td>\n",
       "      <td>0.827769</td>\n",
       "      <td>0.764179</td>\n",
       "      <td>0.493441</td>\n",
       "      <td>0.522323</td>\n",
       "      <td>0.798077</td>\n",
       "      <td>0.740424</td>\n",
       "      <td>0.445699</td>\n",
       "      <td>0.001</td>\n",
       "    </tr>\n",
       "  </tbody>\n",
       "</table>\n",
       "</div>"
      ],
      "text/plain": [
       "        loss       auc  accuracy     kappa  val_loss   val_auc  val_accuracy  \\\n",
       "32  0.487798  0.827769  0.764179  0.493441  0.522323  0.798077      0.740424   \n",
       "\n",
       "    val_kappa     lr  \n",
       "32   0.445699  0.001  "
      ]
     },
     "metadata": {},
     "output_type": "display_data"
    },
    {
     "data": {
      "text/html": [
       "<div>\n",
       "<style scoped>\n",
       "    .dataframe tbody tr th:only-of-type {\n",
       "        vertical-align: middle;\n",
       "    }\n",
       "\n",
       "    .dataframe tbody tr th {\n",
       "        vertical-align: top;\n",
       "    }\n",
       "\n",
       "    .dataframe thead th {\n",
       "        text-align: right;\n",
       "    }\n",
       "</style>\n",
       "<table border=\"1\" class=\"dataframe\">\n",
       "  <thead>\n",
       "    <tr style=\"text-align: right;\">\n",
       "      <th></th>\n",
       "      <th>loss</th>\n",
       "      <th>auc</th>\n",
       "      <th>accuracy</th>\n",
       "      <th>kappa</th>\n",
       "    </tr>\n",
       "  </thead>\n",
       "  <tbody>\n",
       "    <tr>\n",
       "      <th>0</th>\n",
       "      <td>0.590227</td>\n",
       "      <td>0.763019</td>\n",
       "      <td>0.701908</td>\n",
       "      <td>0.396708</td>\n",
       "    </tr>\n",
       "  </tbody>\n",
       "</table>\n",
       "</div>"
      ],
      "text/plain": [
       "       loss       auc  accuracy     kappa\n",
       "0  0.590227  0.763019  0.701908  0.396708"
      ]
     },
     "metadata": {},
     "output_type": "display_data"
    }
   ],
   "source": [
    "custom_cnn_model = custom_cnn_builder(starting_filters=32, conv_layers=6, convs_per_layer=1, pooling='max', batch_norm=True, spatial_dropout=0.25)\n",
    "modelStats = runner.run(model=custom_cnn_model, overwrite=False, verbose=1)\n",
    "display(modelStats.getBestEpoch())\n",
    "display(modelStats.getEvaluation())"
   ]
  },
  {
   "cell_type": "markdown",
   "metadata": {},
   "source": [
    "### Batch Norm Only"
   ]
  },
  {
   "cell_type": "code",
   "execution_count": 14,
   "metadata": {},
   "outputs": [
    {
     "name": "stdout",
     "output_type": "stream",
     "text": [
      "custom/cnn_in.256.256.3_cl.2.1_f.32_ck.3.3_bn_p.max_ps.2.2_pstr.2.2\n",
      "/home/manos/servers/jupyterhub/user_dirs/manos/AUEB Data Science/6 - Deep Learning (INF401) - Prodromos Malakasiotis/Assignments/Assignment 2/models/custom/cnn_in.256.256.3_cl.2.1_f.32_ck.3.3_bn_p.max_ps.2.2_pstr.2.2\n"
     ]
    },
    {
     "data": {
      "text/html": [
       "<div>\n",
       "<style scoped>\n",
       "    .dataframe tbody tr th:only-of-type {\n",
       "        vertical-align: middle;\n",
       "    }\n",
       "\n",
       "    .dataframe tbody tr th {\n",
       "        vertical-align: top;\n",
       "    }\n",
       "\n",
       "    .dataframe thead th {\n",
       "        text-align: right;\n",
       "    }\n",
       "</style>\n",
       "<table border=\"1\" class=\"dataframe\">\n",
       "  <thead>\n",
       "    <tr style=\"text-align: right;\">\n",
       "      <th></th>\n",
       "      <th>loss</th>\n",
       "      <th>auc</th>\n",
       "      <th>accuracy</th>\n",
       "      <th>kappa</th>\n",
       "      <th>val_loss</th>\n",
       "      <th>val_auc</th>\n",
       "      <th>val_accuracy</th>\n",
       "      <th>val_kappa</th>\n",
       "      <th>lr</th>\n",
       "    </tr>\n",
       "  </thead>\n",
       "  <tbody>\n",
       "    <tr>\n",
       "      <th>2</th>\n",
       "      <td>0.639317</td>\n",
       "      <td>0.662311</td>\n",
       "      <td>0.639883</td>\n",
       "      <td>0.217309</td>\n",
       "      <td>0.646177</td>\n",
       "      <td>0.65105</td>\n",
       "      <td>0.630264</td>\n",
       "      <td>0.205022</td>\n",
       "      <td>0.001</td>\n",
       "    </tr>\n",
       "  </tbody>\n",
       "</table>\n",
       "</div>"
      ],
      "text/plain": [
       "       loss       auc  accuracy     kappa  val_loss  val_auc  val_accuracy  \\\n",
       "2  0.639317  0.662311  0.639883  0.217309  0.646177  0.65105      0.630264   \n",
       "\n",
       "   val_kappa     lr  \n",
       "2   0.205022  0.001  "
      ]
     },
     "metadata": {},
     "output_type": "display_data"
    },
    {
     "data": {
      "text/html": [
       "<div>\n",
       "<style scoped>\n",
       "    .dataframe tbody tr th:only-of-type {\n",
       "        vertical-align: middle;\n",
       "    }\n",
       "\n",
       "    .dataframe tbody tr th {\n",
       "        vertical-align: top;\n",
       "    }\n",
       "\n",
       "    .dataframe thead th {\n",
       "        text-align: right;\n",
       "    }\n",
       "</style>\n",
       "<table border=\"1\" class=\"dataframe\">\n",
       "  <thead>\n",
       "    <tr style=\"text-align: right;\">\n",
       "      <th></th>\n",
       "      <th>loss</th>\n",
       "      <th>auc</th>\n",
       "      <th>accuracy</th>\n",
       "      <th>kappa</th>\n",
       "    </tr>\n",
       "  </thead>\n",
       "  <tbody>\n",
       "    <tr>\n",
       "      <th>0</th>\n",
       "      <td>0.704954</td>\n",
       "      <td>0.616193</td>\n",
       "      <td>0.574914</td>\n",
       "      <td>0.134385</td>\n",
       "    </tr>\n",
       "  </tbody>\n",
       "</table>\n",
       "</div>"
      ],
      "text/plain": [
       "       loss       auc  accuracy     kappa\n",
       "0  0.704954  0.616193  0.574914  0.134385"
      ]
     },
     "metadata": {},
     "output_type": "display_data"
    }
   ],
   "source": [
    "custom_cnn_model = custom_cnn_builder(starting_filters=32, conv_layers=2, convs_per_layer=1, pooling='max', batch_norm=True)\n",
    "modelStats = runner.run(model=custom_cnn_model, overwrite=False, verbose=1)\n",
    "display(modelStats.getBestEpoch())\n",
    "display(modelStats.getEvaluation())"
   ]
  },
  {
   "cell_type": "code",
   "execution_count": 15,
   "metadata": {},
   "outputs": [
    {
     "name": "stdout",
     "output_type": "stream",
     "text": [
      "custom/cnn_in.256.256.3_cl.3.1_f.32_ck.3.3_bn_p.max_ps.2.2_pstr.2.2\n",
      "/home/manos/servers/jupyterhub/user_dirs/manos/AUEB Data Science/6 - Deep Learning (INF401) - Prodromos Malakasiotis/Assignments/Assignment 2/models/custom/cnn_in.256.256.3_cl.3.1_f.32_ck.3.3_bn_p.max_ps.2.2_pstr.2.2\n"
     ]
    },
    {
     "data": {
      "text/html": [
       "<div>\n",
       "<style scoped>\n",
       "    .dataframe tbody tr th:only-of-type {\n",
       "        vertical-align: middle;\n",
       "    }\n",
       "\n",
       "    .dataframe tbody tr th {\n",
       "        vertical-align: top;\n",
       "    }\n",
       "\n",
       "    .dataframe thead th {\n",
       "        text-align: right;\n",
       "    }\n",
       "</style>\n",
       "<table border=\"1\" class=\"dataframe\">\n",
       "  <thead>\n",
       "    <tr style=\"text-align: right;\">\n",
       "      <th></th>\n",
       "      <th>loss</th>\n",
       "      <th>auc</th>\n",
       "      <th>accuracy</th>\n",
       "      <th>kappa</th>\n",
       "      <th>val_loss</th>\n",
       "      <th>val_auc</th>\n",
       "      <th>val_accuracy</th>\n",
       "      <th>val_kappa</th>\n",
       "      <th>lr</th>\n",
       "    </tr>\n",
       "  </thead>\n",
       "  <tbody>\n",
       "    <tr>\n",
       "      <th>7</th>\n",
       "      <td>0.550238</td>\n",
       "      <td>0.775144</td>\n",
       "      <td>0.714834</td>\n",
       "      <td>0.385924</td>\n",
       "      <td>0.625603</td>\n",
       "      <td>0.692603</td>\n",
       "      <td>0.660283</td>\n",
       "      <td>0.262001</td>\n",
       "      <td>0.001</td>\n",
       "    </tr>\n",
       "  </tbody>\n",
       "</table>\n",
       "</div>"
      ],
      "text/plain": [
       "       loss       auc  accuracy     kappa  val_loss   val_auc  val_accuracy  \\\n",
       "7  0.550238  0.775144  0.714834  0.385924  0.625603  0.692603      0.660283   \n",
       "\n",
       "   val_kappa     lr  \n",
       "7   0.262001  0.001  "
      ]
     },
     "metadata": {},
     "output_type": "display_data"
    },
    {
     "data": {
      "text/html": [
       "<div>\n",
       "<style scoped>\n",
       "    .dataframe tbody tr th:only-of-type {\n",
       "        vertical-align: middle;\n",
       "    }\n",
       "\n",
       "    .dataframe tbody tr th {\n",
       "        vertical-align: top;\n",
       "    }\n",
       "\n",
       "    .dataframe thead th {\n",
       "        text-align: right;\n",
       "    }\n",
       "</style>\n",
       "<table border=\"1\" class=\"dataframe\">\n",
       "  <thead>\n",
       "    <tr style=\"text-align: right;\">\n",
       "      <th></th>\n",
       "      <th>loss</th>\n",
       "      <th>auc</th>\n",
       "      <th>accuracy</th>\n",
       "      <th>kappa</th>\n",
       "    </tr>\n",
       "  </thead>\n",
       "  <tbody>\n",
       "    <tr>\n",
       "      <th>0</th>\n",
       "      <td>0.691761</td>\n",
       "      <td>0.656593</td>\n",
       "      <td>0.607444</td>\n",
       "      <td>0.201238</td>\n",
       "    </tr>\n",
       "  </tbody>\n",
       "</table>\n",
       "</div>"
      ],
      "text/plain": [
       "       loss       auc  accuracy     kappa\n",
       "0  0.691761  0.656593  0.607444  0.201238"
      ]
     },
     "metadata": {},
     "output_type": "display_data"
    }
   ],
   "source": [
    "custom_cnn_model = custom_cnn_builder(starting_filters=32, conv_layers=3, convs_per_layer=1, pooling='max', batch_norm=True)\n",
    "modelStats = runner.run(model=custom_cnn_model, overwrite=False, verbose=1)\n",
    "display(modelStats.getBestEpoch())\n",
    "display(modelStats.getEvaluation())"
   ]
  },
  {
   "cell_type": "code",
   "execution_count": 16,
   "metadata": {},
   "outputs": [
    {
     "name": "stdout",
     "output_type": "stream",
     "text": [
      "custom/cnn_in.256.256.3_cl.4.1_f.32_ck.3.3_bn_p.max_ps.2.2_pstr.2.2\n",
      "/home/manos/servers/jupyterhub/user_dirs/manos/AUEB Data Science/6 - Deep Learning (INF401) - Prodromos Malakasiotis/Assignments/Assignment 2/models/custom/cnn_in.256.256.3_cl.4.1_f.32_ck.3.3_bn_p.max_ps.2.2_pstr.2.2\n"
     ]
    },
    {
     "data": {
      "text/html": [
       "<div>\n",
       "<style scoped>\n",
       "    .dataframe tbody tr th:only-of-type {\n",
       "        vertical-align: middle;\n",
       "    }\n",
       "\n",
       "    .dataframe tbody tr th {\n",
       "        vertical-align: top;\n",
       "    }\n",
       "\n",
       "    .dataframe thead th {\n",
       "        text-align: right;\n",
       "    }\n",
       "</style>\n",
       "<table border=\"1\" class=\"dataframe\">\n",
       "  <thead>\n",
       "    <tr style=\"text-align: right;\">\n",
       "      <th></th>\n",
       "      <th>loss</th>\n",
       "      <th>auc</th>\n",
       "      <th>accuracy</th>\n",
       "      <th>kappa</th>\n",
       "      <th>val_loss</th>\n",
       "      <th>val_auc</th>\n",
       "      <th>val_accuracy</th>\n",
       "      <th>val_kappa</th>\n",
       "      <th>lr</th>\n",
       "    </tr>\n",
       "  </thead>\n",
       "  <tbody>\n",
       "    <tr>\n",
       "      <th>11</th>\n",
       "      <td>0.472136</td>\n",
       "      <td>0.845309</td>\n",
       "      <td>0.77474</td>\n",
       "      <td>0.519764</td>\n",
       "      <td>0.580034</td>\n",
       "      <td>0.765086</td>\n",
       "      <td>0.704021</td>\n",
       "      <td>0.386198</td>\n",
       "      <td>0.001</td>\n",
       "    </tr>\n",
       "  </tbody>\n",
       "</table>\n",
       "</div>"
      ],
      "text/plain": [
       "        loss       auc  accuracy     kappa  val_loss   val_auc  val_accuracy  \\\n",
       "11  0.472136  0.845309   0.77474  0.519764  0.580034  0.765086      0.704021   \n",
       "\n",
       "    val_kappa     lr  \n",
       "11   0.386198  0.001  "
      ]
     },
     "metadata": {},
     "output_type": "display_data"
    },
    {
     "data": {
      "text/html": [
       "<div>\n",
       "<style scoped>\n",
       "    .dataframe tbody tr th:only-of-type {\n",
       "        vertical-align: middle;\n",
       "    }\n",
       "\n",
       "    .dataframe tbody tr th {\n",
       "        vertical-align: top;\n",
       "    }\n",
       "\n",
       "    .dataframe thead th {\n",
       "        text-align: right;\n",
       "    }\n",
       "</style>\n",
       "<table border=\"1\" class=\"dataframe\">\n",
       "  <thead>\n",
       "    <tr style=\"text-align: right;\">\n",
       "      <th></th>\n",
       "      <th>loss</th>\n",
       "      <th>auc</th>\n",
       "      <th>accuracy</th>\n",
       "      <th>kappa</th>\n",
       "    </tr>\n",
       "  </thead>\n",
       "  <tbody>\n",
       "    <tr>\n",
       "      <th>0</th>\n",
       "      <td>0.659058</td>\n",
       "      <td>0.717311</td>\n",
       "      <td>0.66187</td>\n",
       "      <td>0.319591</td>\n",
       "    </tr>\n",
       "  </tbody>\n",
       "</table>\n",
       "</div>"
      ],
      "text/plain": [
       "       loss       auc  accuracy     kappa\n",
       "0  0.659058  0.717311   0.66187  0.319591"
      ]
     },
     "metadata": {},
     "output_type": "display_data"
    }
   ],
   "source": [
    "custom_cnn_model = custom_cnn_builder(starting_filters=32, conv_layers=4, convs_per_layer=1, pooling='max', batch_norm=True)\n",
    "modelStats = runner.run(model=custom_cnn_model, overwrite=False, verbose=1)\n",
    "display(modelStats.getBestEpoch())\n",
    "display(modelStats.getEvaluation())"
   ]
  },
  {
   "cell_type": "code",
   "execution_count": 17,
   "metadata": {},
   "outputs": [
    {
     "name": "stdout",
     "output_type": "stream",
     "text": [
      "custom/cnn_in.256.256.3_cl.5.1_f.32_ck.3.3_bn_p.max_ps.2.2_pstr.2.2\n",
      "/home/manos/servers/jupyterhub/user_dirs/manos/AUEB Data Science/6 - Deep Learning (INF401) - Prodromos Malakasiotis/Assignments/Assignment 2/models/custom/cnn_in.256.256.3_cl.5.1_f.32_ck.3.3_bn_p.max_ps.2.2_pstr.2.2\n"
     ]
    },
    {
     "data": {
      "text/html": [
       "<div>\n",
       "<style scoped>\n",
       "    .dataframe tbody tr th:only-of-type {\n",
       "        vertical-align: middle;\n",
       "    }\n",
       "\n",
       "    .dataframe tbody tr th {\n",
       "        vertical-align: top;\n",
       "    }\n",
       "\n",
       "    .dataframe thead th {\n",
       "        text-align: right;\n",
       "    }\n",
       "</style>\n",
       "<table border=\"1\" class=\"dataframe\">\n",
       "  <thead>\n",
       "    <tr style=\"text-align: right;\">\n",
       "      <th></th>\n",
       "      <th>loss</th>\n",
       "      <th>auc</th>\n",
       "      <th>accuracy</th>\n",
       "      <th>kappa</th>\n",
       "      <th>val_loss</th>\n",
       "      <th>val_auc</th>\n",
       "      <th>val_accuracy</th>\n",
       "      <th>val_kappa</th>\n",
       "      <th>lr</th>\n",
       "    </tr>\n",
       "  </thead>\n",
       "  <tbody>\n",
       "    <tr>\n",
       "      <th>9</th>\n",
       "      <td>0.479732</td>\n",
       "      <td>0.836792</td>\n",
       "      <td>0.77131</td>\n",
       "      <td>0.508595</td>\n",
       "      <td>0.548764</td>\n",
       "      <td>0.77276</td>\n",
       "      <td>0.727248</td>\n",
       "      <td>0.40196</td>\n",
       "      <td>0.001</td>\n",
       "    </tr>\n",
       "  </tbody>\n",
       "</table>\n",
       "</div>"
      ],
      "text/plain": [
       "       loss       auc  accuracy     kappa  val_loss  val_auc  val_accuracy  \\\n",
       "9  0.479732  0.836792   0.77131  0.508595  0.548764  0.77276      0.727248   \n",
       "\n",
       "   val_kappa     lr  \n",
       "9    0.40196  0.001  "
      ]
     },
     "metadata": {},
     "output_type": "display_data"
    },
    {
     "data": {
      "text/html": [
       "<div>\n",
       "<style scoped>\n",
       "    .dataframe tbody tr th:only-of-type {\n",
       "        vertical-align: middle;\n",
       "    }\n",
       "\n",
       "    .dataframe tbody tr th {\n",
       "        vertical-align: top;\n",
       "    }\n",
       "\n",
       "    .dataframe thead th {\n",
       "        text-align: right;\n",
       "    }\n",
       "</style>\n",
       "<table border=\"1\" class=\"dataframe\">\n",
       "  <thead>\n",
       "    <tr style=\"text-align: right;\">\n",
       "      <th></th>\n",
       "      <th>loss</th>\n",
       "      <th>auc</th>\n",
       "      <th>accuracy</th>\n",
       "      <th>kappa</th>\n",
       "    </tr>\n",
       "  </thead>\n",
       "  <tbody>\n",
       "    <tr>\n",
       "      <th>0</th>\n",
       "      <td>0.603638</td>\n",
       "      <td>0.757223</td>\n",
       "      <td>0.695027</td>\n",
       "      <td>0.380158</td>\n",
       "    </tr>\n",
       "  </tbody>\n",
       "</table>\n",
       "</div>"
      ],
      "text/plain": [
       "       loss       auc  accuracy     kappa\n",
       "0  0.603638  0.757223  0.695027  0.380158"
      ]
     },
     "metadata": {},
     "output_type": "display_data"
    }
   ],
   "source": [
    "custom_cnn_model = custom_cnn_builder(starting_filters=32, conv_layers=5, convs_per_layer=1, pooling='max', batch_norm=True)\n",
    "modelStats = runner.run(model=custom_cnn_model, overwrite=False, verbose=1)\n",
    "display(modelStats.getBestEpoch())\n",
    "display(modelStats.getEvaluation())"
   ]
  },
  {
   "cell_type": "code",
   "execution_count": 18,
   "metadata": {},
   "outputs": [
    {
     "name": "stdout",
     "output_type": "stream",
     "text": [
      "custom/cnn_in.256.256.3_cl.6.1_f.32_ck.3.3_bn_p.max_ps.2.2_pstr.2.2\n",
      "/home/manos/servers/jupyterhub/user_dirs/manos/AUEB Data Science/6 - Deep Learning (INF401) - Prodromos Malakasiotis/Assignments/Assignment 2/models/custom/cnn_in.256.256.3_cl.6.1_f.32_ck.3.3_bn_p.max_ps.2.2_pstr.2.2\n"
     ]
    },
    {
     "data": {
      "text/html": [
       "<div>\n",
       "<style scoped>\n",
       "    .dataframe tbody tr th:only-of-type {\n",
       "        vertical-align: middle;\n",
       "    }\n",
       "\n",
       "    .dataframe tbody tr th {\n",
       "        vertical-align: top;\n",
       "    }\n",
       "\n",
       "    .dataframe thead th {\n",
       "        text-align: right;\n",
       "    }\n",
       "</style>\n",
       "<table border=\"1\" class=\"dataframe\">\n",
       "  <thead>\n",
       "    <tr style=\"text-align: right;\">\n",
       "      <th></th>\n",
       "      <th>loss</th>\n",
       "      <th>auc</th>\n",
       "      <th>accuracy</th>\n",
       "      <th>kappa</th>\n",
       "      <th>val_loss</th>\n",
       "      <th>val_auc</th>\n",
       "      <th>val_accuracy</th>\n",
       "      <th>val_kappa</th>\n",
       "      <th>lr</th>\n",
       "    </tr>\n",
       "  </thead>\n",
       "  <tbody>\n",
       "    <tr>\n",
       "      <th>10</th>\n",
       "      <td>0.481651</td>\n",
       "      <td>0.83251</td>\n",
       "      <td>0.769782</td>\n",
       "      <td>0.504152</td>\n",
       "      <td>0.53562</td>\n",
       "      <td>0.798018</td>\n",
       "      <td>0.741918</td>\n",
       "      <td>0.422446</td>\n",
       "      <td>0.001</td>\n",
       "    </tr>\n",
       "  </tbody>\n",
       "</table>\n",
       "</div>"
      ],
      "text/plain": [
       "        loss      auc  accuracy     kappa  val_loss   val_auc  val_accuracy  \\\n",
       "10  0.481651  0.83251  0.769782  0.504152   0.53562  0.798018      0.741918   \n",
       "\n",
       "    val_kappa     lr  \n",
       "10   0.422446  0.001  "
      ]
     },
     "metadata": {},
     "output_type": "display_data"
    },
    {
     "data": {
      "text/html": [
       "<div>\n",
       "<style scoped>\n",
       "    .dataframe tbody tr th:only-of-type {\n",
       "        vertical-align: middle;\n",
       "    }\n",
       "\n",
       "    .dataframe tbody tr th {\n",
       "        vertical-align: top;\n",
       "    }\n",
       "\n",
       "    .dataframe thead th {\n",
       "        text-align: right;\n",
       "    }\n",
       "</style>\n",
       "<table border=\"1\" class=\"dataframe\">\n",
       "  <thead>\n",
       "    <tr style=\"text-align: right;\">\n",
       "      <th></th>\n",
       "      <th>loss</th>\n",
       "      <th>auc</th>\n",
       "      <th>accuracy</th>\n",
       "      <th>kappa</th>\n",
       "    </tr>\n",
       "  </thead>\n",
       "  <tbody>\n",
       "    <tr>\n",
       "      <th>0</th>\n",
       "      <td>0.619844</td>\n",
       "      <td>0.7724</td>\n",
       "      <td>0.689396</td>\n",
       "      <td>0.36456</td>\n",
       "    </tr>\n",
       "  </tbody>\n",
       "</table>\n",
       "</div>"
      ],
      "text/plain": [
       "       loss     auc  accuracy    kappa\n",
       "0  0.619844  0.7724  0.689396  0.36456"
      ]
     },
     "metadata": {},
     "output_type": "display_data"
    }
   ],
   "source": [
    "custom_cnn_model = custom_cnn_builder(starting_filters=32, conv_layers=6, convs_per_layer=1, pooling='max', batch_norm=True)\n",
    "modelStats = runner.run(model=custom_cnn_model, overwrite=False, verbose=1)\n",
    "display(modelStats.getBestEpoch())\n",
    "display(modelStats.getEvaluation())"
   ]
  },
  {
   "cell_type": "markdown",
   "metadata": {},
   "source": [
    "### Batch Norm With Connected layer dropout"
   ]
  },
  {
   "cell_type": "code",
   "execution_count": 19,
   "metadata": {},
   "outputs": [
    {
     "name": "stdout",
     "output_type": "stream",
     "text": [
      "custom/cnn_in.256.256.3_cl.2.1_f.32_ck.3.3_bn_p.max_ps.2.2_pstr.2.2_ld.0.25\n",
      "/home/manos/servers/jupyterhub/user_dirs/manos/AUEB Data Science/6 - Deep Learning (INF401) - Prodromos Malakasiotis/Assignments/Assignment 2/models/custom/cnn_in.256.256.3_cl.2.1_f.32_ck.3.3_bn_p.max_ps.2.2_pstr.2.2_ld.0.25\n"
     ]
    },
    {
     "data": {
      "text/html": [
       "<div>\n",
       "<style scoped>\n",
       "    .dataframe tbody tr th:only-of-type {\n",
       "        vertical-align: middle;\n",
       "    }\n",
       "\n",
       "    .dataframe tbody tr th {\n",
       "        vertical-align: top;\n",
       "    }\n",
       "\n",
       "    .dataframe thead th {\n",
       "        text-align: right;\n",
       "    }\n",
       "</style>\n",
       "<table border=\"1\" class=\"dataframe\">\n",
       "  <thead>\n",
       "    <tr style=\"text-align: right;\">\n",
       "      <th></th>\n",
       "      <th>loss</th>\n",
       "      <th>auc</th>\n",
       "      <th>accuracy</th>\n",
       "      <th>kappa</th>\n",
       "      <th>val_loss</th>\n",
       "      <th>val_auc</th>\n",
       "      <th>val_accuracy</th>\n",
       "      <th>val_kappa</th>\n",
       "      <th>lr</th>\n",
       "    </tr>\n",
       "  </thead>\n",
       "  <tbody>\n",
       "    <tr>\n",
       "      <th>2</th>\n",
       "      <td>0.627887</td>\n",
       "      <td>0.674159</td>\n",
       "      <td>0.646811</td>\n",
       "      <td>0.223103</td>\n",
       "      <td>0.635489</td>\n",
       "      <td>0.660917</td>\n",
       "      <td>0.634203</td>\n",
       "      <td>0.185714</td>\n",
       "      <td>0.001</td>\n",
       "    </tr>\n",
       "  </tbody>\n",
       "</table>\n",
       "</div>"
      ],
      "text/plain": [
       "       loss       auc  accuracy     kappa  val_loss   val_auc  val_accuracy  \\\n",
       "2  0.627887  0.674159  0.646811  0.223103  0.635489  0.660917      0.634203   \n",
       "\n",
       "   val_kappa     lr  \n",
       "2   0.185714  0.001  "
      ]
     },
     "metadata": {},
     "output_type": "display_data"
    },
    {
     "data": {
      "text/html": [
       "<div>\n",
       "<style scoped>\n",
       "    .dataframe tbody tr th:only-of-type {\n",
       "        vertical-align: middle;\n",
       "    }\n",
       "\n",
       "    .dataframe tbody tr th {\n",
       "        vertical-align: top;\n",
       "    }\n",
       "\n",
       "    .dataframe thead th {\n",
       "        text-align: right;\n",
       "    }\n",
       "</style>\n",
       "<table border=\"1\" class=\"dataframe\">\n",
       "  <thead>\n",
       "    <tr style=\"text-align: right;\">\n",
       "      <th></th>\n",
       "      <th>loss</th>\n",
       "      <th>auc</th>\n",
       "      <th>accuracy</th>\n",
       "      <th>kappa</th>\n",
       "    </tr>\n",
       "  </thead>\n",
       "  <tbody>\n",
       "    <tr>\n",
       "      <th>0</th>\n",
       "      <td>0.68505</td>\n",
       "      <td>0.632744</td>\n",
       "      <td>0.581795</td>\n",
       "      <td>0.143159</td>\n",
       "    </tr>\n",
       "  </tbody>\n",
       "</table>\n",
       "</div>"
      ],
      "text/plain": [
       "      loss       auc  accuracy     kappa\n",
       "0  0.68505  0.632744  0.581795  0.143159"
      ]
     },
     "metadata": {},
     "output_type": "display_data"
    }
   ],
   "source": [
    "custom_cnn_model = custom_cnn_builder(starting_filters=32, conv_layers=2, convs_per_layer=1, pooling='max', batch_norm=True, last_dropout=0.25)\n",
    "modelStats = runner.run(model=custom_cnn_model, overwrite=False, verbose=1)\n",
    "display(modelStats.getBestEpoch())\n",
    "display(modelStats.getEvaluation())"
   ]
  },
  {
   "cell_type": "code",
   "execution_count": 20,
   "metadata": {},
   "outputs": [
    {
     "name": "stdout",
     "output_type": "stream",
     "text": [
      "custom/cnn_in.256.256.3_cl.3.1_f.32_ck.3.3_bn_p.max_ps.2.2_pstr.2.2_ld.0.25\n",
      "/home/manos/servers/jupyterhub/user_dirs/manos/AUEB Data Science/6 - Deep Learning (INF401) - Prodromos Malakasiotis/Assignments/Assignment 2/models/custom/cnn_in.256.256.3_cl.3.1_f.32_ck.3.3_bn_p.max_ps.2.2_pstr.2.2_ld.0.25\n"
     ]
    },
    {
     "data": {
      "text/html": [
       "<div>\n",
       "<style scoped>\n",
       "    .dataframe tbody tr th:only-of-type {\n",
       "        vertical-align: middle;\n",
       "    }\n",
       "\n",
       "    .dataframe tbody tr th {\n",
       "        vertical-align: top;\n",
       "    }\n",
       "\n",
       "    .dataframe thead th {\n",
       "        text-align: right;\n",
       "    }\n",
       "</style>\n",
       "<table border=\"1\" class=\"dataframe\">\n",
       "  <thead>\n",
       "    <tr style=\"text-align: right;\">\n",
       "      <th></th>\n",
       "      <th>loss</th>\n",
       "      <th>auc</th>\n",
       "      <th>accuracy</th>\n",
       "      <th>kappa</th>\n",
       "      <th>val_loss</th>\n",
       "      <th>val_auc</th>\n",
       "      <th>val_accuracy</th>\n",
       "      <th>val_kappa</th>\n",
       "      <th>lr</th>\n",
       "    </tr>\n",
       "  </thead>\n",
       "  <tbody>\n",
       "    <tr>\n",
       "      <th>4</th>\n",
       "      <td>0.585015</td>\n",
       "      <td>0.734312</td>\n",
       "      <td>0.687632</td>\n",
       "      <td>0.323712</td>\n",
       "      <td>0.619131</td>\n",
       "      <td>0.694315</td>\n",
       "      <td>0.647786</td>\n",
       "      <td>0.26585</td>\n",
       "      <td>0.001</td>\n",
       "    </tr>\n",
       "  </tbody>\n",
       "</table>\n",
       "</div>"
      ],
      "text/plain": [
       "       loss       auc  accuracy     kappa  val_loss   val_auc  val_accuracy  \\\n",
       "4  0.585015  0.734312  0.687632  0.323712  0.619131  0.694315      0.647786   \n",
       "\n",
       "   val_kappa     lr  \n",
       "4    0.26585  0.001  "
      ]
     },
     "metadata": {},
     "output_type": "display_data"
    },
    {
     "data": {
      "text/html": [
       "<div>\n",
       "<style scoped>\n",
       "    .dataframe tbody tr th:only-of-type {\n",
       "        vertical-align: middle;\n",
       "    }\n",
       "\n",
       "    .dataframe tbody tr th {\n",
       "        vertical-align: top;\n",
       "    }\n",
       "\n",
       "    .dataframe thead th {\n",
       "        text-align: right;\n",
       "    }\n",
       "</style>\n",
       "<table border=\"1\" class=\"dataframe\">\n",
       "  <thead>\n",
       "    <tr style=\"text-align: right;\">\n",
       "      <th></th>\n",
       "      <th>loss</th>\n",
       "      <th>auc</th>\n",
       "      <th>accuracy</th>\n",
       "      <th>kappa</th>\n",
       "    </tr>\n",
       "  </thead>\n",
       "  <tbody>\n",
       "    <tr>\n",
       "      <th>0</th>\n",
       "      <td>0.653813</td>\n",
       "      <td>0.665092</td>\n",
       "      <td>0.621833</td>\n",
       "      <td>0.236223</td>\n",
       "    </tr>\n",
       "  </tbody>\n",
       "</table>\n",
       "</div>"
      ],
      "text/plain": [
       "       loss       auc  accuracy     kappa\n",
       "0  0.653813  0.665092  0.621833  0.236223"
      ]
     },
     "metadata": {},
     "output_type": "display_data"
    }
   ],
   "source": [
    "custom_cnn_model = custom_cnn_builder(starting_filters=32, conv_layers=3, convs_per_layer=1, pooling='max', batch_norm=True, last_dropout=0.25)\n",
    "modelStats = runner.run(model=custom_cnn_model, overwrite=False, verbose=1)\n",
    "display(modelStats.getBestEpoch())\n",
    "display(modelStats.getEvaluation())"
   ]
  },
  {
   "cell_type": "code",
   "execution_count": 21,
   "metadata": {},
   "outputs": [
    {
     "name": "stdout",
     "output_type": "stream",
     "text": [
      "custom/cnn_in.256.256.3_cl.4.1_f.32_ck.3.3_bn_p.max_ps.2.2_pstr.2.2_ld.0.25\n",
      "/home/manos/servers/jupyterhub/user_dirs/manos/AUEB Data Science/6 - Deep Learning (INF401) - Prodromos Malakasiotis/Assignments/Assignment 2/models/custom/cnn_in.256.256.3_cl.4.1_f.32_ck.3.3_bn_p.max_ps.2.2_pstr.2.2_ld.0.25\n"
     ]
    },
    {
     "data": {
      "text/html": [
       "<div>\n",
       "<style scoped>\n",
       "    .dataframe tbody tr th:only-of-type {\n",
       "        vertical-align: middle;\n",
       "    }\n",
       "\n",
       "    .dataframe tbody tr th {\n",
       "        vertical-align: top;\n",
       "    }\n",
       "\n",
       "    .dataframe thead th {\n",
       "        text-align: right;\n",
       "    }\n",
       "</style>\n",
       "<table border=\"1\" class=\"dataframe\">\n",
       "  <thead>\n",
       "    <tr style=\"text-align: right;\">\n",
       "      <th></th>\n",
       "      <th>loss</th>\n",
       "      <th>auc</th>\n",
       "      <th>accuracy</th>\n",
       "      <th>kappa</th>\n",
       "      <th>val_loss</th>\n",
       "      <th>val_auc</th>\n",
       "      <th>val_accuracy</th>\n",
       "      <th>val_kappa</th>\n",
       "      <th>lr</th>\n",
       "    </tr>\n",
       "  </thead>\n",
       "  <tbody>\n",
       "    <tr>\n",
       "      <th>9</th>\n",
       "      <td>0.487929</td>\n",
       "      <td>0.830993</td>\n",
       "      <td>0.763194</td>\n",
       "      <td>0.492327</td>\n",
       "      <td>0.551674</td>\n",
       "      <td>0.774008</td>\n",
       "      <td>0.72263</td>\n",
       "      <td>0.400869</td>\n",
       "      <td>0.001</td>\n",
       "    </tr>\n",
       "  </tbody>\n",
       "</table>\n",
       "</div>"
      ],
      "text/plain": [
       "       loss       auc  accuracy     kappa  val_loss   val_auc  val_accuracy  \\\n",
       "9  0.487929  0.830993  0.763194  0.492327  0.551674  0.774008       0.72263   \n",
       "\n",
       "   val_kappa     lr  \n",
       "9   0.400869  0.001  "
      ]
     },
     "metadata": {},
     "output_type": "display_data"
    },
    {
     "data": {
      "text/html": [
       "<div>\n",
       "<style scoped>\n",
       "    .dataframe tbody tr th:only-of-type {\n",
       "        vertical-align: middle;\n",
       "    }\n",
       "\n",
       "    .dataframe tbody tr th {\n",
       "        vertical-align: top;\n",
       "    }\n",
       "\n",
       "    .dataframe thead th {\n",
       "        text-align: right;\n",
       "    }\n",
       "</style>\n",
       "<table border=\"1\" class=\"dataframe\">\n",
       "  <thead>\n",
       "    <tr style=\"text-align: right;\">\n",
       "      <th></th>\n",
       "      <th>loss</th>\n",
       "      <th>auc</th>\n",
       "      <th>accuracy</th>\n",
       "      <th>kappa</th>\n",
       "    </tr>\n",
       "  </thead>\n",
       "  <tbody>\n",
       "    <tr>\n",
       "      <th>0</th>\n",
       "      <td>0.634083</td>\n",
       "      <td>0.733398</td>\n",
       "      <td>0.668752</td>\n",
       "      <td>0.327013</td>\n",
       "    </tr>\n",
       "  </tbody>\n",
       "</table>\n",
       "</div>"
      ],
      "text/plain": [
       "       loss       auc  accuracy     kappa\n",
       "0  0.634083  0.733398  0.668752  0.327013"
      ]
     },
     "metadata": {},
     "output_type": "display_data"
    }
   ],
   "source": [
    "custom_cnn_model = custom_cnn_builder(starting_filters=32, conv_layers=4, convs_per_layer=1, pooling='max', batch_norm=True, last_dropout=0.25)\n",
    "modelStats = runner.run(model=custom_cnn_model, overwrite=False, verbose=1)\n",
    "display(modelStats.getBestEpoch())\n",
    "display(modelStats.getEvaluation())"
   ]
  },
  {
   "cell_type": "code",
   "execution_count": 22,
   "metadata": {},
   "outputs": [
    {
     "name": "stdout",
     "output_type": "stream",
     "text": [
      "custom/cnn_in.256.256.3_cl.5.1_f.32_ck.3.3_bn_p.max_ps.2.2_pstr.2.2_ld.0.25\n",
      "/home/manos/servers/jupyterhub/user_dirs/manos/AUEB Data Science/6 - Deep Learning (INF401) - Prodromos Malakasiotis/Assignments/Assignment 2/models/custom/cnn_in.256.256.3_cl.5.1_f.32_ck.3.3_bn_p.max_ps.2.2_pstr.2.2_ld.0.25\n"
     ]
    },
    {
     "data": {
      "text/html": [
       "<div>\n",
       "<style scoped>\n",
       "    .dataframe tbody tr th:only-of-type {\n",
       "        vertical-align: middle;\n",
       "    }\n",
       "\n",
       "    .dataframe tbody tr th {\n",
       "        vertical-align: top;\n",
       "    }\n",
       "\n",
       "    .dataframe thead th {\n",
       "        text-align: right;\n",
       "    }\n",
       "</style>\n",
       "<table border=\"1\" class=\"dataframe\">\n",
       "  <thead>\n",
       "    <tr style=\"text-align: right;\">\n",
       "      <th></th>\n",
       "      <th>loss</th>\n",
       "      <th>auc</th>\n",
       "      <th>accuracy</th>\n",
       "      <th>kappa</th>\n",
       "      <th>val_loss</th>\n",
       "      <th>val_auc</th>\n",
       "      <th>val_accuracy</th>\n",
       "      <th>val_kappa</th>\n",
       "      <th>lr</th>\n",
       "    </tr>\n",
       "  </thead>\n",
       "  <tbody>\n",
       "    <tr>\n",
       "      <th>15</th>\n",
       "      <td>0.428728</td>\n",
       "      <td>0.873676</td>\n",
       "      <td>0.799429</td>\n",
       "      <td>0.57365</td>\n",
       "      <td>0.535744</td>\n",
       "      <td>0.796219</td>\n",
       "      <td>0.746536</td>\n",
       "      <td>0.450156</td>\n",
       "      <td>0.001</td>\n",
       "    </tr>\n",
       "  </tbody>\n",
       "</table>\n",
       "</div>"
      ],
      "text/plain": [
       "        loss       auc  accuracy    kappa  val_loss   val_auc  val_accuracy  \\\n",
       "15  0.428728  0.873676  0.799429  0.57365  0.535744  0.796219      0.746536   \n",
       "\n",
       "    val_kappa     lr  \n",
       "15   0.450156  0.001  "
      ]
     },
     "metadata": {},
     "output_type": "display_data"
    },
    {
     "data": {
      "text/html": [
       "<div>\n",
       "<style scoped>\n",
       "    .dataframe tbody tr th:only-of-type {\n",
       "        vertical-align: middle;\n",
       "    }\n",
       "\n",
       "    .dataframe tbody tr th {\n",
       "        vertical-align: top;\n",
       "    }\n",
       "\n",
       "    .dataframe thead th {\n",
       "        text-align: right;\n",
       "    }\n",
       "</style>\n",
       "<table border=\"1\" class=\"dataframe\">\n",
       "  <thead>\n",
       "    <tr style=\"text-align: right;\">\n",
       "      <th></th>\n",
       "      <th>loss</th>\n",
       "      <th>auc</th>\n",
       "      <th>accuracy</th>\n",
       "      <th>kappa</th>\n",
       "    </tr>\n",
       "  </thead>\n",
       "  <tbody>\n",
       "    <tr>\n",
       "      <th>0</th>\n",
       "      <td>0.61121</td>\n",
       "      <td>0.775639</td>\n",
       "      <td>0.71442</td>\n",
       "      <td>0.420552</td>\n",
       "    </tr>\n",
       "  </tbody>\n",
       "</table>\n",
       "</div>"
      ],
      "text/plain": [
       "      loss       auc  accuracy     kappa\n",
       "0  0.61121  0.775639   0.71442  0.420552"
      ]
     },
     "metadata": {},
     "output_type": "display_data"
    }
   ],
   "source": [
    "custom_cnn_model = custom_cnn_builder(starting_filters=32, conv_layers=5, convs_per_layer=1, pooling='max', batch_norm=True, last_dropout=0.25)\n",
    "modelStats = runner.run(model=custom_cnn_model, overwrite=False, verbose=1)\n",
    "display(modelStats.getBestEpoch())\n",
    "display(modelStats.getEvaluation())"
   ]
  },
  {
   "cell_type": "code",
   "execution_count": 23,
   "metadata": {},
   "outputs": [
    {
     "name": "stdout",
     "output_type": "stream",
     "text": [
      "custom/cnn_in.256.256.3_cl.6.1_f.32_ck.3.3_bn_p.max_ps.2.2_pstr.2.2_ld.0.25\n",
      "/home/manos/servers/jupyterhub/user_dirs/manos/AUEB Data Science/6 - Deep Learning (INF401) - Prodromos Malakasiotis/Assignments/Assignment 2/models/custom/cnn_in.256.256.3_cl.6.1_f.32_ck.3.3_bn_p.max_ps.2.2_pstr.2.2_ld.0.25\n"
     ]
    },
    {
     "data": {
      "text/html": [
       "<div>\n",
       "<style scoped>\n",
       "    .dataframe tbody tr th:only-of-type {\n",
       "        vertical-align: middle;\n",
       "    }\n",
       "\n",
       "    .dataframe tbody tr th {\n",
       "        vertical-align: top;\n",
       "    }\n",
       "\n",
       "    .dataframe thead th {\n",
       "        text-align: right;\n",
       "    }\n",
       "</style>\n",
       "<table border=\"1\" class=\"dataframe\">\n",
       "  <thead>\n",
       "    <tr style=\"text-align: right;\">\n",
       "      <th></th>\n",
       "      <th>loss</th>\n",
       "      <th>auc</th>\n",
       "      <th>accuracy</th>\n",
       "      <th>kappa</th>\n",
       "      <th>val_loss</th>\n",
       "      <th>val_auc</th>\n",
       "      <th>val_accuracy</th>\n",
       "      <th>val_kappa</th>\n",
       "      <th>lr</th>\n",
       "    </tr>\n",
       "  </thead>\n",
       "  <tbody>\n",
       "    <tr>\n",
       "      <th>13</th>\n",
       "      <td>0.481535</td>\n",
       "      <td>0.831616</td>\n",
       "      <td>0.768593</td>\n",
       "      <td>0.502283</td>\n",
       "      <td>0.531345</td>\n",
       "      <td>0.791609</td>\n",
       "      <td>0.74151</td>\n",
       "      <td>0.437633</td>\n",
       "      <td>0.001</td>\n",
       "    </tr>\n",
       "  </tbody>\n",
       "</table>\n",
       "</div>"
      ],
      "text/plain": [
       "        loss       auc  accuracy     kappa  val_loss   val_auc  val_accuracy  \\\n",
       "13  0.481535  0.831616  0.768593  0.502283  0.531345  0.791609       0.74151   \n",
       "\n",
       "    val_kappa     lr  \n",
       "13   0.437633  0.001  "
      ]
     },
     "metadata": {},
     "output_type": "display_data"
    },
    {
     "data": {
      "text/html": [
       "<div>\n",
       "<style scoped>\n",
       "    .dataframe tbody tr th:only-of-type {\n",
       "        vertical-align: middle;\n",
       "    }\n",
       "\n",
       "    .dataframe tbody tr th {\n",
       "        vertical-align: top;\n",
       "    }\n",
       "\n",
       "    .dataframe thead th {\n",
       "        text-align: right;\n",
       "    }\n",
       "</style>\n",
       "<table border=\"1\" class=\"dataframe\">\n",
       "  <thead>\n",
       "    <tr style=\"text-align: right;\">\n",
       "      <th></th>\n",
       "      <th>loss</th>\n",
       "      <th>auc</th>\n",
       "      <th>accuracy</th>\n",
       "      <th>kappa</th>\n",
       "    </tr>\n",
       "  </thead>\n",
       "  <tbody>\n",
       "    <tr>\n",
       "      <th>0</th>\n",
       "      <td>0.589437</td>\n",
       "      <td>0.772767</td>\n",
       "      <td>0.700657</td>\n",
       "      <td>0.391932</td>\n",
       "    </tr>\n",
       "  </tbody>\n",
       "</table>\n",
       "</div>"
      ],
      "text/plain": [
       "       loss       auc  accuracy     kappa\n",
       "0  0.589437  0.772767  0.700657  0.391932"
      ]
     },
     "metadata": {},
     "output_type": "display_data"
    }
   ],
   "source": [
    "custom_cnn_model = custom_cnn_builder(starting_filters=32, conv_layers=6, convs_per_layer=1, pooling='max', batch_norm=True, last_dropout=0.25)\n",
    "modelStats = runner.run(model=custom_cnn_model, overwrite=False, verbose=1)\n",
    "display(modelStats.getBestEpoch())\n",
    "display(modelStats.getEvaluation())"
   ]
  },
  {
   "cell_type": "markdown",
   "metadata": {},
   "source": [
    "### Weigh Classes"
   ]
  },
  {
   "cell_type": "code",
   "execution_count": 24,
   "metadata": {},
   "outputs": [
    {
     "name": "stdout",
     "output_type": "stream",
     "text": [
      "custom/cnn_in.256.256.3_cl.2.1_f.32_ck.3.3_bn_p.max_ps.2.2_pstr.2.2_ld.0.25__wc\n",
      "/home/manos/servers/jupyterhub/user_dirs/manos/AUEB Data Science/6 - Deep Learning (INF401) - Prodromos Malakasiotis/Assignments/Assignment 2/models/custom/cnn_in.256.256.3_cl.2.1_f.32_ck.3.3_bn_p.max_ps.2.2_pstr.2.2_ld.0.25__wc\n"
     ]
    },
    {
     "data": {
      "text/html": [
       "<div>\n",
       "<style scoped>\n",
       "    .dataframe tbody tr th:only-of-type {\n",
       "        vertical-align: middle;\n",
       "    }\n",
       "\n",
       "    .dataframe tbody tr th {\n",
       "        vertical-align: top;\n",
       "    }\n",
       "\n",
       "    .dataframe thead th {\n",
       "        text-align: right;\n",
       "    }\n",
       "</style>\n",
       "<table border=\"1\" class=\"dataframe\">\n",
       "  <thead>\n",
       "    <tr style=\"text-align: right;\">\n",
       "      <th></th>\n",
       "      <th>loss</th>\n",
       "      <th>auc</th>\n",
       "      <th>accuracy</th>\n",
       "      <th>kappa</th>\n",
       "      <th>val_loss</th>\n",
       "      <th>val_auc</th>\n",
       "      <th>val_accuracy</th>\n",
       "      <th>val_kappa</th>\n",
       "      <th>lr</th>\n",
       "    </tr>\n",
       "  </thead>\n",
       "  <tbody>\n",
       "    <tr>\n",
       "      <th>1</th>\n",
       "      <td>0.676314</td>\n",
       "      <td>0.632804</td>\n",
       "      <td>0.594342</td>\n",
       "      <td>0.184433</td>\n",
       "      <td>0.661438</td>\n",
       "      <td>0.640027</td>\n",
       "      <td>0.595219</td>\n",
       "      <td>0.189339</td>\n",
       "      <td>0.001</td>\n",
       "    </tr>\n",
       "  </tbody>\n",
       "</table>\n",
       "</div>"
      ],
      "text/plain": [
       "       loss       auc  accuracy     kappa  val_loss   val_auc  val_accuracy  \\\n",
       "1  0.676314  0.632804  0.594342  0.184433  0.661438  0.640027      0.595219   \n",
       "\n",
       "   val_kappa     lr  \n",
       "1   0.189339  0.001  "
      ]
     },
     "metadata": {},
     "output_type": "display_data"
    },
    {
     "data": {
      "text/html": [
       "<div>\n",
       "<style scoped>\n",
       "    .dataframe tbody tr th:only-of-type {\n",
       "        vertical-align: middle;\n",
       "    }\n",
       "\n",
       "    .dataframe tbody tr th {\n",
       "        vertical-align: top;\n",
       "    }\n",
       "\n",
       "    .dataframe thead th {\n",
       "        text-align: right;\n",
       "    }\n",
       "</style>\n",
       "<table border=\"1\" class=\"dataframe\">\n",
       "  <thead>\n",
       "    <tr style=\"text-align: right;\">\n",
       "      <th></th>\n",
       "      <th>loss</th>\n",
       "      <th>auc</th>\n",
       "      <th>accuracy</th>\n",
       "      <th>kappa</th>\n",
       "    </tr>\n",
       "  </thead>\n",
       "  <tbody>\n",
       "    <tr>\n",
       "      <th>0</th>\n",
       "      <td>0.680141</td>\n",
       "      <td>0.614289</td>\n",
       "      <td>0.587739</td>\n",
       "      <td>0.174758</td>\n",
       "    </tr>\n",
       "  </tbody>\n",
       "</table>\n",
       "</div>"
      ],
      "text/plain": [
       "       loss       auc  accuracy     kappa\n",
       "0  0.680141  0.614289  0.587739  0.174758"
      ]
     },
     "metadata": {},
     "output_type": "display_data"
    }
   ],
   "source": [
    "custom_cnn_model = custom_cnn_builder(starting_filters=32, conv_layers=2, convs_per_layer=1, pooling='max', batch_norm=True, last_dropout=0.25)\n",
    "modelStats = runner.run(model=custom_cnn_model, overwrite=False, verbose=1, weight_classes=True)\n",
    "display(modelStats.getBestEpoch())\n",
    "display(modelStats.getEvaluation())"
   ]
  },
  {
   "cell_type": "code",
   "execution_count": 25,
   "metadata": {},
   "outputs": [
    {
     "name": "stdout",
     "output_type": "stream",
     "text": [
      "custom/cnn_in.256.256.3_cl.3.1_f.32_ck.3.3_bn_p.max_ps.2.2_pstr.2.2_ld.0.25__wc\n",
      "/home/manos/servers/jupyterhub/user_dirs/manos/AUEB Data Science/6 - Deep Learning (INF401) - Prodromos Malakasiotis/Assignments/Assignment 2/models/custom/cnn_in.256.256.3_cl.3.1_f.32_ck.3.3_bn_p.max_ps.2.2_pstr.2.2_ld.0.25__wc\n"
     ]
    },
    {
     "data": {
      "text/html": [
       "<div>\n",
       "<style scoped>\n",
       "    .dataframe tbody tr th:only-of-type {\n",
       "        vertical-align: middle;\n",
       "    }\n",
       "\n",
       "    .dataframe tbody tr th {\n",
       "        vertical-align: top;\n",
       "    }\n",
       "\n",
       "    .dataframe thead th {\n",
       "        text-align: right;\n",
       "    }\n",
       "</style>\n",
       "<table border=\"1\" class=\"dataframe\">\n",
       "  <thead>\n",
       "    <tr style=\"text-align: right;\">\n",
       "      <th></th>\n",
       "      <th>loss</th>\n",
       "      <th>auc</th>\n",
       "      <th>accuracy</th>\n",
       "      <th>kappa</th>\n",
       "      <th>val_loss</th>\n",
       "      <th>val_auc</th>\n",
       "      <th>val_accuracy</th>\n",
       "      <th>val_kappa</th>\n",
       "      <th>lr</th>\n",
       "    </tr>\n",
       "  </thead>\n",
       "  <tbody>\n",
       "    <tr>\n",
       "      <th>7</th>\n",
       "      <td>0.531543</td>\n",
       "      <td>0.807642</td>\n",
       "      <td>0.728079</td>\n",
       "      <td>0.445446</td>\n",
       "      <td>0.630983</td>\n",
       "      <td>0.70435</td>\n",
       "      <td>0.649823</td>\n",
       "      <td>0.288902</td>\n",
       "      <td>0.001</td>\n",
       "    </tr>\n",
       "  </tbody>\n",
       "</table>\n",
       "</div>"
      ],
      "text/plain": [
       "       loss       auc  accuracy     kappa  val_loss  val_auc  val_accuracy  \\\n",
       "7  0.531543  0.807642  0.728079  0.445446  0.630983  0.70435      0.649823   \n",
       "\n",
       "   val_kappa     lr  \n",
       "7   0.288902  0.001  "
      ]
     },
     "metadata": {},
     "output_type": "display_data"
    },
    {
     "data": {
      "text/html": [
       "<div>\n",
       "<style scoped>\n",
       "    .dataframe tbody tr th:only-of-type {\n",
       "        vertical-align: middle;\n",
       "    }\n",
       "\n",
       "    .dataframe tbody tr th {\n",
       "        vertical-align: top;\n",
       "    }\n",
       "\n",
       "    .dataframe thead th {\n",
       "        text-align: right;\n",
       "    }\n",
       "</style>\n",
       "<table border=\"1\" class=\"dataframe\">\n",
       "  <thead>\n",
       "    <tr style=\"text-align: right;\">\n",
       "      <th></th>\n",
       "      <th>loss</th>\n",
       "      <th>auc</th>\n",
       "      <th>accuracy</th>\n",
       "      <th>kappa</th>\n",
       "    </tr>\n",
       "  </thead>\n",
       "  <tbody>\n",
       "    <tr>\n",
       "      <th>0</th>\n",
       "      <td>0.66648</td>\n",
       "      <td>0.673718</td>\n",
       "      <td>0.621207</td>\n",
       "      <td>0.239489</td>\n",
       "    </tr>\n",
       "  </tbody>\n",
       "</table>\n",
       "</div>"
      ],
      "text/plain": [
       "      loss       auc  accuracy     kappa\n",
       "0  0.66648  0.673718  0.621207  0.239489"
      ]
     },
     "metadata": {},
     "output_type": "display_data"
    }
   ],
   "source": [
    "custom_cnn_model = custom_cnn_builder(starting_filters=32, conv_layers=3, convs_per_layer=1, pooling='max', batch_norm=True, last_dropout=0.25)\n",
    "modelStats = runner.run(model=custom_cnn_model, overwrite=False, verbose=1, weight_classes=True)\n",
    "display(modelStats.getBestEpoch())\n",
    "display(modelStats.getEvaluation())"
   ]
  },
  {
   "cell_type": "code",
   "execution_count": 26,
   "metadata": {},
   "outputs": [
    {
     "name": "stdout",
     "output_type": "stream",
     "text": [
      "custom/cnn_in.256.256.3_cl.4.1_f.32_ck.3.3_bn_p.max_ps.2.2_pstr.2.2_ld.0.25__wc\n",
      "/home/manos/servers/jupyterhub/user_dirs/manos/AUEB Data Science/6 - Deep Learning (INF401) - Prodromos Malakasiotis/Assignments/Assignment 2/models/custom/cnn_in.256.256.3_cl.4.1_f.32_ck.3.3_bn_p.max_ps.2.2_pstr.2.2_ld.0.25__wc\n"
     ]
    },
    {
     "data": {
      "text/html": [
       "<div>\n",
       "<style scoped>\n",
       "    .dataframe tbody tr th:only-of-type {\n",
       "        vertical-align: middle;\n",
       "    }\n",
       "\n",
       "    .dataframe tbody tr th {\n",
       "        vertical-align: top;\n",
       "    }\n",
       "\n",
       "    .dataframe thead th {\n",
       "        text-align: right;\n",
       "    }\n",
       "</style>\n",
       "<table border=\"1\" class=\"dataframe\">\n",
       "  <thead>\n",
       "    <tr style=\"text-align: right;\">\n",
       "      <th></th>\n",
       "      <th>loss</th>\n",
       "      <th>auc</th>\n",
       "      <th>accuracy</th>\n",
       "      <th>kappa</th>\n",
       "      <th>val_loss</th>\n",
       "      <th>val_auc</th>\n",
       "      <th>val_accuracy</th>\n",
       "      <th>val_kappa</th>\n",
       "      <th>lr</th>\n",
       "    </tr>\n",
       "  </thead>\n",
       "  <tbody>\n",
       "    <tr>\n",
       "      <th>13</th>\n",
       "      <td>0.419632</td>\n",
       "      <td>0.888719</td>\n",
       "      <td>0.804625</td>\n",
       "      <td>0.599394</td>\n",
       "      <td>0.599033</td>\n",
       "      <td>0.756192</td>\n",
       "      <td>0.695871</td>\n",
       "      <td>0.376705</td>\n",
       "      <td>0.001</td>\n",
       "    </tr>\n",
       "  </tbody>\n",
       "</table>\n",
       "</div>"
      ],
      "text/plain": [
       "        loss       auc  accuracy     kappa  val_loss   val_auc  val_accuracy  \\\n",
       "13  0.419632  0.888719  0.804625  0.599394  0.599033  0.756192      0.695871   \n",
       "\n",
       "    val_kappa     lr  \n",
       "13   0.376705  0.001  "
      ]
     },
     "metadata": {},
     "output_type": "display_data"
    },
    {
     "data": {
      "text/html": [
       "<div>\n",
       "<style scoped>\n",
       "    .dataframe tbody tr th:only-of-type {\n",
       "        vertical-align: middle;\n",
       "    }\n",
       "\n",
       "    .dataframe tbody tr th {\n",
       "        vertical-align: top;\n",
       "    }\n",
       "\n",
       "    .dataframe thead th {\n",
       "        text-align: right;\n",
       "    }\n",
       "</style>\n",
       "<table border=\"1\" class=\"dataframe\">\n",
       "  <thead>\n",
       "    <tr style=\"text-align: right;\">\n",
       "      <th></th>\n",
       "      <th>loss</th>\n",
       "      <th>auc</th>\n",
       "      <th>accuracy</th>\n",
       "      <th>kappa</th>\n",
       "    </tr>\n",
       "  </thead>\n",
       "  <tbody>\n",
       "    <tr>\n",
       "      <th>0</th>\n",
       "      <td>0.679707</td>\n",
       "      <td>0.706773</td>\n",
       "      <td>0.644354</td>\n",
       "      <td>0.285769</td>\n",
       "    </tr>\n",
       "  </tbody>\n",
       "</table>\n",
       "</div>"
      ],
      "text/plain": [
       "       loss       auc  accuracy     kappa\n",
       "0  0.679707  0.706773  0.644354  0.285769"
      ]
     },
     "metadata": {},
     "output_type": "display_data"
    }
   ],
   "source": [
    "custom_cnn_model = custom_cnn_builder(starting_filters=32, conv_layers=4, convs_per_layer=1, pooling='max', batch_norm=True, last_dropout=0.25)\n",
    "modelStats = runner.run(model=custom_cnn_model, overwrite=False, verbose=1, weight_classes=True)\n",
    "display(modelStats.getBestEpoch())\n",
    "display(modelStats.getEvaluation())"
   ]
  },
  {
   "cell_type": "code",
   "execution_count": 27,
   "metadata": {},
   "outputs": [
    {
     "name": "stdout",
     "output_type": "stream",
     "text": [
      "custom/cnn_in.256.256.3_cl.5.1_f.32_ck.3.3_bn_p.max_ps.2.2_pstr.2.2_ld.0.25__wc\n",
      "/home/manos/servers/jupyterhub/user_dirs/manos/AUEB Data Science/6 - Deep Learning (INF401) - Prodromos Malakasiotis/Assignments/Assignment 2/models/custom/cnn_in.256.256.3_cl.5.1_f.32_ck.3.3_bn_p.max_ps.2.2_pstr.2.2_ld.0.25__wc\n"
     ]
    },
    {
     "data": {
      "text/html": [
       "<div>\n",
       "<style scoped>\n",
       "    .dataframe tbody tr th:only-of-type {\n",
       "        vertical-align: middle;\n",
       "    }\n",
       "\n",
       "    .dataframe tbody tr th {\n",
       "        vertical-align: top;\n",
       "    }\n",
       "\n",
       "    .dataframe thead th {\n",
       "        text-align: right;\n",
       "    }\n",
       "</style>\n",
       "<table border=\"1\" class=\"dataframe\">\n",
       "  <thead>\n",
       "    <tr style=\"text-align: right;\">\n",
       "      <th></th>\n",
       "      <th>loss</th>\n",
       "      <th>auc</th>\n",
       "      <th>accuracy</th>\n",
       "      <th>kappa</th>\n",
       "      <th>val_loss</th>\n",
       "      <th>val_auc</th>\n",
       "      <th>val_accuracy</th>\n",
       "      <th>val_kappa</th>\n",
       "      <th>lr</th>\n",
       "    </tr>\n",
       "  </thead>\n",
       "  <tbody>\n",
       "    <tr>\n",
       "      <th>14</th>\n",
       "      <td>0.42247</td>\n",
       "      <td>0.887966</td>\n",
       "      <td>0.807105</td>\n",
       "      <td>0.602036</td>\n",
       "      <td>0.528892</td>\n",
       "      <td>0.807304</td>\n",
       "      <td>0.742325</td>\n",
       "      <td>0.463023</td>\n",
       "      <td>0.0002</td>\n",
       "    </tr>\n",
       "  </tbody>\n",
       "</table>\n",
       "</div>"
      ],
      "text/plain": [
       "       loss       auc  accuracy     kappa  val_loss   val_auc  val_accuracy  \\\n",
       "14  0.42247  0.887966  0.807105  0.602036  0.528892  0.807304      0.742325   \n",
       "\n",
       "    val_kappa      lr  \n",
       "14   0.463023  0.0002  "
      ]
     },
     "metadata": {},
     "output_type": "display_data"
    },
    {
     "data": {
      "text/html": [
       "<div>\n",
       "<style scoped>\n",
       "    .dataframe tbody tr th:only-of-type {\n",
       "        vertical-align: middle;\n",
       "    }\n",
       "\n",
       "    .dataframe tbody tr th {\n",
       "        vertical-align: top;\n",
       "    }\n",
       "\n",
       "    .dataframe thead th {\n",
       "        text-align: right;\n",
       "    }\n",
       "</style>\n",
       "<table border=\"1\" class=\"dataframe\">\n",
       "  <thead>\n",
       "    <tr style=\"text-align: right;\">\n",
       "      <th></th>\n",
       "      <th>loss</th>\n",
       "      <th>auc</th>\n",
       "      <th>accuracy</th>\n",
       "      <th>kappa</th>\n",
       "    </tr>\n",
       "  </thead>\n",
       "  <tbody>\n",
       "    <tr>\n",
       "      <th>0</th>\n",
       "      <td>0.588613</td>\n",
       "      <td>0.778735</td>\n",
       "      <td>0.703785</td>\n",
       "      <td>0.403741</td>\n",
       "    </tr>\n",
       "  </tbody>\n",
       "</table>\n",
       "</div>"
      ],
      "text/plain": [
       "       loss       auc  accuracy     kappa\n",
       "0  0.588613  0.778735  0.703785  0.403741"
      ]
     },
     "metadata": {},
     "output_type": "display_data"
    }
   ],
   "source": [
    "custom_cnn_model = custom_cnn_builder(starting_filters=32, conv_layers=5, convs_per_layer=1, pooling='max', batch_norm=True, last_dropout=0.25)\n",
    "modelStats = runner.run(model=custom_cnn_model, overwrite=False, verbose=1, weight_classes=True)\n",
    "display(modelStats.getBestEpoch())\n",
    "display(modelStats.getEvaluation())"
   ]
  },
  {
   "cell_type": "code",
   "execution_count": 28,
   "metadata": {},
   "outputs": [
    {
     "name": "stdout",
     "output_type": "stream",
     "text": [
      "custom/cnn_in.256.256.3_cl.6.1_f.32_ck.3.3_bn_p.max_ps.2.2_pstr.2.2_ld.0.25__wc\n",
      "/home/manos/servers/jupyterhub/user_dirs/manos/AUEB Data Science/6 - Deep Learning (INF401) - Prodromos Malakasiotis/Assignments/Assignment 2/models/custom/cnn_in.256.256.3_cl.6.1_f.32_ck.3.3_bn_p.max_ps.2.2_pstr.2.2_ld.0.25__wc\n"
     ]
    },
    {
     "data": {
      "text/html": [
       "<div>\n",
       "<style scoped>\n",
       "    .dataframe tbody tr th:only-of-type {\n",
       "        vertical-align: middle;\n",
       "    }\n",
       "\n",
       "    .dataframe tbody tr th {\n",
       "        vertical-align: top;\n",
       "    }\n",
       "\n",
       "    .dataframe thead th {\n",
       "        text-align: right;\n",
       "    }\n",
       "</style>\n",
       "<table border=\"1\" class=\"dataframe\">\n",
       "  <thead>\n",
       "    <tr style=\"text-align: right;\">\n",
       "      <th></th>\n",
       "      <th>loss</th>\n",
       "      <th>auc</th>\n",
       "      <th>accuracy</th>\n",
       "      <th>kappa</th>\n",
       "      <th>val_loss</th>\n",
       "      <th>val_auc</th>\n",
       "      <th>val_accuracy</th>\n",
       "      <th>val_kappa</th>\n",
       "      <th>lr</th>\n",
       "    </tr>\n",
       "  </thead>\n",
       "  <tbody>\n",
       "    <tr>\n",
       "      <th>17</th>\n",
       "      <td>0.402047</td>\n",
       "      <td>0.897967</td>\n",
       "      <td>0.817395</td>\n",
       "      <td>0.623007</td>\n",
       "      <td>0.523574</td>\n",
       "      <td>0.817227</td>\n",
       "      <td>0.755365</td>\n",
       "      <td>0.48803</td>\n",
       "      <td>0.00004</td>\n",
       "    </tr>\n",
       "  </tbody>\n",
       "</table>\n",
       "</div>"
      ],
      "text/plain": [
       "        loss       auc  accuracy     kappa  val_loss   val_auc  val_accuracy  \\\n",
       "17  0.402047  0.897967  0.817395  0.623007  0.523574  0.817227      0.755365   \n",
       "\n",
       "    val_kappa       lr  \n",
       "17    0.48803  0.00004  "
      ]
     },
     "metadata": {},
     "output_type": "display_data"
    },
    {
     "data": {
      "text/html": [
       "<div>\n",
       "<style scoped>\n",
       "    .dataframe tbody tr th:only-of-type {\n",
       "        vertical-align: middle;\n",
       "    }\n",
       "\n",
       "    .dataframe tbody tr th {\n",
       "        vertical-align: top;\n",
       "    }\n",
       "\n",
       "    .dataframe thead th {\n",
       "        text-align: right;\n",
       "    }\n",
       "</style>\n",
       "<table border=\"1\" class=\"dataframe\">\n",
       "  <thead>\n",
       "    <tr style=\"text-align: right;\">\n",
       "      <th></th>\n",
       "      <th>loss</th>\n",
       "      <th>auc</th>\n",
       "      <th>accuracy</th>\n",
       "      <th>kappa</th>\n",
       "    </tr>\n",
       "  </thead>\n",
       "  <tbody>\n",
       "    <tr>\n",
       "      <th>0</th>\n",
       "      <td>0.582554</td>\n",
       "      <td>0.793154</td>\n",
       "      <td>0.723178</td>\n",
       "      <td>0.442989</td>\n",
       "    </tr>\n",
       "  </tbody>\n",
       "</table>\n",
       "</div>"
      ],
      "text/plain": [
       "       loss       auc  accuracy     kappa\n",
       "0  0.582554  0.793154  0.723178  0.442989"
      ]
     },
     "metadata": {},
     "output_type": "display_data"
    }
   ],
   "source": [
    "custom_cnn_model = custom_cnn_builder(starting_filters=32, conv_layers=6, convs_per_layer=1, pooling='max', batch_norm=True, last_dropout=0.25)\n",
    "modelStats = runner.run(model=custom_cnn_model, overwrite=False, verbose=1, weight_classes=True)\n",
    "display(modelStats.getBestEpoch())\n",
    "display(modelStats.getEvaluation())"
   ]
  },
  {
   "cell_type": "markdown",
   "metadata": {},
   "source": [
    "### Image Augmentation"
   ]
  },
  {
   "cell_type": "code",
   "execution_count": 29,
   "metadata": {},
   "outputs": [
    {
     "name": "stdout",
     "output_type": "stream",
     "text": [
      "custom/cnn_in.256.256.3_cl.2.1_f.32_ck.3.3_bn_p.max_ps.2.2_pstr.2.2_ld.0.25__wc_aug\n",
      "/home/manos/servers/jupyterhub/user_dirs/manos/AUEB Data Science/6 - Deep Learning (INF401) - Prodromos Malakasiotis/Assignments/Assignment 2/models/custom/cnn_in.256.256.3_cl.2.1_f.32_ck.3.3_bn_p.max_ps.2.2_pstr.2.2_ld.0.25__wc_aug\n"
     ]
    },
    {
     "data": {
      "text/html": [
       "<div>\n",
       "<style scoped>\n",
       "    .dataframe tbody tr th:only-of-type {\n",
       "        vertical-align: middle;\n",
       "    }\n",
       "\n",
       "    .dataframe tbody tr th {\n",
       "        vertical-align: top;\n",
       "    }\n",
       "\n",
       "    .dataframe thead th {\n",
       "        text-align: right;\n",
       "    }\n",
       "</style>\n",
       "<table border=\"1\" class=\"dataframe\">\n",
       "  <thead>\n",
       "    <tr style=\"text-align: right;\">\n",
       "      <th></th>\n",
       "      <th>loss</th>\n",
       "      <th>auc</th>\n",
       "      <th>accuracy</th>\n",
       "      <th>kappa</th>\n",
       "      <th>val_loss</th>\n",
       "      <th>val_auc</th>\n",
       "      <th>val_accuracy</th>\n",
       "      <th>val_kappa</th>\n",
       "      <th>lr</th>\n",
       "    </tr>\n",
       "  </thead>\n",
       "  <tbody>\n",
       "    <tr>\n",
       "      <th>9</th>\n",
       "      <td>0.559904</td>\n",
       "      <td>0.783125</td>\n",
       "      <td>0.710249</td>\n",
       "      <td>0.409533</td>\n",
       "      <td>0.63704</td>\n",
       "      <td>0.687402</td>\n",
       "      <td>0.646156</td>\n",
       "      <td>0.266673</td>\n",
       "      <td>0.0002</td>\n",
       "    </tr>\n",
       "  </tbody>\n",
       "</table>\n",
       "</div>"
      ],
      "text/plain": [
       "       loss       auc  accuracy     kappa  val_loss   val_auc  val_accuracy  \\\n",
       "9  0.559904  0.783125  0.710249  0.409533   0.63704  0.687402      0.646156   \n",
       "\n",
       "   val_kappa      lr  \n",
       "9   0.266673  0.0002  "
      ]
     },
     "metadata": {},
     "output_type": "display_data"
    },
    {
     "data": {
      "text/html": [
       "<div>\n",
       "<style scoped>\n",
       "    .dataframe tbody tr th:only-of-type {\n",
       "        vertical-align: middle;\n",
       "    }\n",
       "\n",
       "    .dataframe tbody tr th {\n",
       "        vertical-align: top;\n",
       "    }\n",
       "\n",
       "    .dataframe thead th {\n",
       "        text-align: right;\n",
       "    }\n",
       "</style>\n",
       "<table border=\"1\" class=\"dataframe\">\n",
       "  <thead>\n",
       "    <tr style=\"text-align: right;\">\n",
       "      <th></th>\n",
       "      <th>loss</th>\n",
       "      <th>auc</th>\n",
       "      <th>accuracy</th>\n",
       "      <th>kappa</th>\n",
       "    </tr>\n",
       "  </thead>\n",
       "  <tbody>\n",
       "    <tr>\n",
       "      <th>0</th>\n",
       "      <td>0.682905</td>\n",
       "      <td>0.657271</td>\n",
       "      <td>0.615264</td>\n",
       "      <td>0.223734</td>\n",
       "    </tr>\n",
       "  </tbody>\n",
       "</table>\n",
       "</div>"
      ],
      "text/plain": [
       "       loss       auc  accuracy     kappa\n",
       "0  0.682905  0.657271  0.615264  0.223734"
      ]
     },
     "metadata": {},
     "output_type": "display_data"
    }
   ],
   "source": [
    "custom_cnn_model = custom_cnn_builder(starting_filters=32, conv_layers=2, convs_per_layer=1, pooling='max', batch_norm=True, last_dropout=0.25)\n",
    "modelStats = runner.run(model=custom_cnn_model, overwrite=False, verbose=1, weight_classes=True, augment=True)\n",
    "display(modelStats.getBestEpoch())\n",
    "display(modelStats.getEvaluation())"
   ]
  },
  {
   "cell_type": "code",
   "execution_count": 30,
   "metadata": {},
   "outputs": [
    {
     "name": "stdout",
     "output_type": "stream",
     "text": [
      "custom/cnn_in.256.256.3_cl.3.1_f.32_ck.3.3_bn_p.max_ps.2.2_pstr.2.2_ld.0.25__wc_aug\n",
      "/home/manos/servers/jupyterhub/user_dirs/manos/AUEB Data Science/6 - Deep Learning (INF401) - Prodromos Malakasiotis/Assignments/Assignment 2/models/custom/cnn_in.256.256.3_cl.3.1_f.32_ck.3.3_bn_p.max_ps.2.2_pstr.2.2_ld.0.25__wc_aug\n"
     ]
    },
    {
     "data": {
      "text/html": [
       "<div>\n",
       "<style scoped>\n",
       "    .dataframe tbody tr th:only-of-type {\n",
       "        vertical-align: middle;\n",
       "    }\n",
       "\n",
       "    .dataframe tbody tr th {\n",
       "        vertical-align: top;\n",
       "    }\n",
       "\n",
       "    .dataframe thead th {\n",
       "        text-align: right;\n",
       "    }\n",
       "</style>\n",
       "<table border=\"1\" class=\"dataframe\">\n",
       "  <thead>\n",
       "    <tr style=\"text-align: right;\">\n",
       "      <th></th>\n",
       "      <th>loss</th>\n",
       "      <th>auc</th>\n",
       "      <th>accuracy</th>\n",
       "      <th>kappa</th>\n",
       "      <th>val_loss</th>\n",
       "      <th>val_auc</th>\n",
       "      <th>val_accuracy</th>\n",
       "      <th>val_kappa</th>\n",
       "      <th>lr</th>\n",
       "    </tr>\n",
       "  </thead>\n",
       "  <tbody>\n",
       "    <tr>\n",
       "      <th>25</th>\n",
       "      <td>0.485857</td>\n",
       "      <td>0.845402</td>\n",
       "      <td>0.763024</td>\n",
       "      <td>0.514059</td>\n",
       "      <td>0.556707</td>\n",
       "      <td>0.778504</td>\n",
       "      <td>0.713801</td>\n",
       "      <td>0.405323</td>\n",
       "      <td>0.0002</td>\n",
       "    </tr>\n",
       "  </tbody>\n",
       "</table>\n",
       "</div>"
      ],
      "text/plain": [
       "        loss       auc  accuracy     kappa  val_loss   val_auc  val_accuracy  \\\n",
       "25  0.485857  0.845402  0.763024  0.514059  0.556707  0.778504      0.713801   \n",
       "\n",
       "    val_kappa      lr  \n",
       "25   0.405323  0.0002  "
      ]
     },
     "metadata": {},
     "output_type": "display_data"
    },
    {
     "data": {
      "text/html": [
       "<div>\n",
       "<style scoped>\n",
       "    .dataframe tbody tr th:only-of-type {\n",
       "        vertical-align: middle;\n",
       "    }\n",
       "\n",
       "    .dataframe tbody tr th {\n",
       "        vertical-align: top;\n",
       "    }\n",
       "\n",
       "    .dataframe thead th {\n",
       "        text-align: right;\n",
       "    }\n",
       "</style>\n",
       "<table border=\"1\" class=\"dataframe\">\n",
       "  <thead>\n",
       "    <tr style=\"text-align: right;\">\n",
       "      <th></th>\n",
       "      <th>loss</th>\n",
       "      <th>auc</th>\n",
       "      <th>accuracy</th>\n",
       "      <th>kappa</th>\n",
       "    </tr>\n",
       "  </thead>\n",
       "  <tbody>\n",
       "    <tr>\n",
       "      <th>0</th>\n",
       "      <td>0.606526</td>\n",
       "      <td>0.752021</td>\n",
       "      <td>0.683453</td>\n",
       "      <td>0.362213</td>\n",
       "    </tr>\n",
       "  </tbody>\n",
       "</table>\n",
       "</div>"
      ],
      "text/plain": [
       "       loss       auc  accuracy     kappa\n",
       "0  0.606526  0.752021  0.683453  0.362213"
      ]
     },
     "metadata": {},
     "output_type": "display_data"
    }
   ],
   "source": [
    "custom_cnn_model = custom_cnn_builder(starting_filters=32, conv_layers=3, convs_per_layer=1, pooling='max', batch_norm=True, last_dropout=0.25)\n",
    "modelStats = runner.run(model=custom_cnn_model, overwrite=False, verbose=1, weight_classes=True, augment=True)\n",
    "display(modelStats.getBestEpoch())\n",
    "display(modelStats.getEvaluation())"
   ]
  },
  {
   "cell_type": "code",
   "execution_count": 31,
   "metadata": {},
   "outputs": [
    {
     "name": "stdout",
     "output_type": "stream",
     "text": [
      "custom/cnn_in.256.256.3_cl.4.1_f.32_ck.3.3_bn_p.max_ps.2.2_pstr.2.2_ld.0.25__wc_aug\n",
      "/home/manos/servers/jupyterhub/user_dirs/manos/AUEB Data Science/6 - Deep Learning (INF401) - Prodromos Malakasiotis/Assignments/Assignment 2/models/custom/cnn_in.256.256.3_cl.4.1_f.32_ck.3.3_bn_p.max_ps.2.2_pstr.2.2_ld.0.25__wc_aug\n"
     ]
    },
    {
     "data": {
      "text/html": [
       "<div>\n",
       "<style scoped>\n",
       "    .dataframe tbody tr th:only-of-type {\n",
       "        vertical-align: middle;\n",
       "    }\n",
       "\n",
       "    .dataframe tbody tr th {\n",
       "        vertical-align: top;\n",
       "    }\n",
       "\n",
       "    .dataframe thead th {\n",
       "        text-align: right;\n",
       "    }\n",
       "</style>\n",
       "<table border=\"1\" class=\"dataframe\">\n",
       "  <thead>\n",
       "    <tr style=\"text-align: right;\">\n",
       "      <th></th>\n",
       "      <th>loss</th>\n",
       "      <th>auc</th>\n",
       "      <th>accuracy</th>\n",
       "      <th>kappa</th>\n",
       "      <th>val_loss</th>\n",
       "      <th>val_auc</th>\n",
       "      <th>val_accuracy</th>\n",
       "      <th>val_kappa</th>\n",
       "      <th>lr</th>\n",
       "    </tr>\n",
       "  </thead>\n",
       "  <tbody>\n",
       "    <tr>\n",
       "      <th>33</th>\n",
       "      <td>0.45128</td>\n",
       "      <td>0.869357</td>\n",
       "      <td>0.793826</td>\n",
       "      <td>0.57244</td>\n",
       "      <td>0.505036</td>\n",
       "      <td>0.825088</td>\n",
       "      <td>0.76175</td>\n",
       "      <td>0.498629</td>\n",
       "      <td>0.00004</td>\n",
       "    </tr>\n",
       "  </tbody>\n",
       "</table>\n",
       "</div>"
      ],
      "text/plain": [
       "       loss       auc  accuracy    kappa  val_loss   val_auc  val_accuracy  \\\n",
       "33  0.45128  0.869357  0.793826  0.57244  0.505036  0.825088       0.76175   \n",
       "\n",
       "    val_kappa       lr  \n",
       "33   0.498629  0.00004  "
      ]
     },
     "metadata": {},
     "output_type": "display_data"
    },
    {
     "data": {
      "text/html": [
       "<div>\n",
       "<style scoped>\n",
       "    .dataframe tbody tr th:only-of-type {\n",
       "        vertical-align: middle;\n",
       "    }\n",
       "\n",
       "    .dataframe tbody tr th {\n",
       "        vertical-align: top;\n",
       "    }\n",
       "\n",
       "    .dataframe thead th {\n",
       "        text-align: right;\n",
       "    }\n",
       "</style>\n",
       "<table border=\"1\" class=\"dataframe\">\n",
       "  <thead>\n",
       "    <tr style=\"text-align: right;\">\n",
       "      <th></th>\n",
       "      <th>loss</th>\n",
       "      <th>auc</th>\n",
       "      <th>accuracy</th>\n",
       "      <th>kappa</th>\n",
       "    </tr>\n",
       "  </thead>\n",
       "  <tbody>\n",
       "    <tr>\n",
       "      <th>0</th>\n",
       "      <td>0.537417</td>\n",
       "      <td>0.813126</td>\n",
       "      <td>0.748514</td>\n",
       "      <td>0.493053</td>\n",
       "    </tr>\n",
       "  </tbody>\n",
       "</table>\n",
       "</div>"
      ],
      "text/plain": [
       "       loss       auc  accuracy     kappa\n",
       "0  0.537417  0.813126  0.748514  0.493053"
      ]
     },
     "metadata": {},
     "output_type": "display_data"
    }
   ],
   "source": [
    "custom_cnn_model = custom_cnn_builder(starting_filters=32, conv_layers=4, convs_per_layer=1, pooling='max', batch_norm=True, last_dropout=0.25)\n",
    "modelStats = runner.run(model=custom_cnn_model, overwrite=False, verbose=1, weight_classes=True, augment=True)\n",
    "display(modelStats.getBestEpoch())\n",
    "display(modelStats.getEvaluation())"
   ]
  },
  {
   "cell_type": "code",
   "execution_count": 32,
   "metadata": {},
   "outputs": [
    {
     "name": "stdout",
     "output_type": "stream",
     "text": [
      "custom/cnn_in.256.256.3_cl.5.1_f.32_ck.3.3_bn_p.max_ps.2.2_pstr.2.2_ld.0.25__wc_aug\n",
      "/home/manos/servers/jupyterhub/user_dirs/manos/AUEB Data Science/6 - Deep Learning (INF401) - Prodromos Malakasiotis/Assignments/Assignment 2/models/custom/cnn_in.256.256.3_cl.5.1_f.32_ck.3.3_bn_p.max_ps.2.2_pstr.2.2_ld.0.25__wc_aug\n"
     ]
    },
    {
     "data": {
      "text/html": [
       "<div>\n",
       "<style scoped>\n",
       "    .dataframe tbody tr th:only-of-type {\n",
       "        vertical-align: middle;\n",
       "    }\n",
       "\n",
       "    .dataframe tbody tr th {\n",
       "        vertical-align: top;\n",
       "    }\n",
       "\n",
       "    .dataframe thead th {\n",
       "        text-align: right;\n",
       "    }\n",
       "</style>\n",
       "<table border=\"1\" class=\"dataframe\">\n",
       "  <thead>\n",
       "    <tr style=\"text-align: right;\">\n",
       "      <th></th>\n",
       "      <th>loss</th>\n",
       "      <th>auc</th>\n",
       "      <th>accuracy</th>\n",
       "      <th>kappa</th>\n",
       "      <th>val_loss</th>\n",
       "      <th>val_auc</th>\n",
       "      <th>val_accuracy</th>\n",
       "      <th>val_kappa</th>\n",
       "      <th>lr</th>\n",
       "    </tr>\n",
       "  </thead>\n",
       "  <tbody>\n",
       "    <tr>\n",
       "      <th>30</th>\n",
       "      <td>0.44677</td>\n",
       "      <td>0.870107</td>\n",
       "      <td>0.795456</td>\n",
       "      <td>0.574209</td>\n",
       "      <td>0.488675</td>\n",
       "      <td>0.834257</td>\n",
       "      <td>0.772616</td>\n",
       "      <td>0.521759</td>\n",
       "      <td>0.0002</td>\n",
       "    </tr>\n",
       "  </tbody>\n",
       "</table>\n",
       "</div>"
      ],
      "text/plain": [
       "       loss       auc  accuracy     kappa  val_loss   val_auc  val_accuracy  \\\n",
       "30  0.44677  0.870107  0.795456  0.574209  0.488675  0.834257      0.772616   \n",
       "\n",
       "    val_kappa      lr  \n",
       "30   0.521759  0.0002  "
      ]
     },
     "metadata": {},
     "output_type": "display_data"
    },
    {
     "data": {
      "text/html": [
       "<div>\n",
       "<style scoped>\n",
       "    .dataframe tbody tr th:only-of-type {\n",
       "        vertical-align: middle;\n",
       "    }\n",
       "\n",
       "    .dataframe tbody tr th {\n",
       "        vertical-align: top;\n",
       "    }\n",
       "\n",
       "    .dataframe thead th {\n",
       "        text-align: right;\n",
       "    }\n",
       "</style>\n",
       "<table border=\"1\" class=\"dataframe\">\n",
       "  <thead>\n",
       "    <tr style=\"text-align: right;\">\n",
       "      <th></th>\n",
       "      <th>loss</th>\n",
       "      <th>auc</th>\n",
       "      <th>accuracy</th>\n",
       "      <th>kappa</th>\n",
       "    </tr>\n",
       "  </thead>\n",
       "  <tbody>\n",
       "    <tr>\n",
       "      <th>0</th>\n",
       "      <td>0.514265</td>\n",
       "      <td>0.825553</td>\n",
       "      <td>0.758211</td>\n",
       "      <td>0.512929</td>\n",
       "    </tr>\n",
       "  </tbody>\n",
       "</table>\n",
       "</div>"
      ],
      "text/plain": [
       "       loss       auc  accuracy     kappa\n",
       "0  0.514265  0.825553  0.758211  0.512929"
      ]
     },
     "metadata": {},
     "output_type": "display_data"
    }
   ],
   "source": [
    "custom_cnn_model = custom_cnn_builder(starting_filters=32, conv_layers=5, convs_per_layer=1, pooling='max', batch_norm=True, last_dropout=0.25)\n",
    "modelStats = runner.run(model=custom_cnn_model, overwrite=False, verbose=1, weight_classes=True, augment=True)\n",
    "display(modelStats.getBestEpoch())\n",
    "display(modelStats.getEvaluation())"
   ]
  },
  {
   "cell_type": "code",
   "execution_count": 33,
   "metadata": {},
   "outputs": [
    {
     "name": "stdout",
     "output_type": "stream",
     "text": [
      "custom/cnn_in.256.256.3_cl.6.1_f.32_ck.3.3_bn_p.max_ps.2.2_pstr.2.2_ld.0.25__wc_aug\n",
      "/home/manos/servers/jupyterhub/user_dirs/manos/AUEB Data Science/6 - Deep Learning (INF401) - Prodromos Malakasiotis/Assignments/Assignment 2/models/custom/cnn_in.256.256.3_cl.6.1_f.32_ck.3.3_bn_p.max_ps.2.2_pstr.2.2_ld.0.25__wc_aug\n"
     ]
    },
    {
     "data": {
      "text/html": [
       "<div>\n",
       "<style scoped>\n",
       "    .dataframe tbody tr th:only-of-type {\n",
       "        vertical-align: middle;\n",
       "    }\n",
       "\n",
       "    .dataframe tbody tr th {\n",
       "        vertical-align: top;\n",
       "    }\n",
       "\n",
       "    .dataframe thead th {\n",
       "        text-align: right;\n",
       "    }\n",
       "</style>\n",
       "<table border=\"1\" class=\"dataframe\">\n",
       "  <thead>\n",
       "    <tr style=\"text-align: right;\">\n",
       "      <th></th>\n",
       "      <th>loss</th>\n",
       "      <th>auc</th>\n",
       "      <th>accuracy</th>\n",
       "      <th>kappa</th>\n",
       "      <th>val_loss</th>\n",
       "      <th>val_auc</th>\n",
       "      <th>val_accuracy</th>\n",
       "      <th>val_kappa</th>\n",
       "      <th>lr</th>\n",
       "    </tr>\n",
       "  </thead>\n",
       "  <tbody>\n",
       "    <tr>\n",
       "      <th>34</th>\n",
       "      <td>0.397962</td>\n",
       "      <td>0.89898</td>\n",
       "      <td>0.821028</td>\n",
       "      <td>0.628163</td>\n",
       "      <td>0.476751</td>\n",
       "      <td>0.844151</td>\n",
       "      <td>0.787694</td>\n",
       "      <td>0.550738</td>\n",
       "      <td>0.00004</td>\n",
       "    </tr>\n",
       "  </tbody>\n",
       "</table>\n",
       "</div>"
      ],
      "text/plain": [
       "        loss      auc  accuracy     kappa  val_loss   val_auc  val_accuracy  \\\n",
       "34  0.397962  0.89898  0.821028  0.628163  0.476751  0.844151      0.787694   \n",
       "\n",
       "    val_kappa       lr  \n",
       "34   0.550738  0.00004  "
      ]
     },
     "metadata": {},
     "output_type": "display_data"
    },
    {
     "data": {
      "text/html": [
       "<div>\n",
       "<style scoped>\n",
       "    .dataframe tbody tr th:only-of-type {\n",
       "        vertical-align: middle;\n",
       "    }\n",
       "\n",
       "    .dataframe tbody tr th {\n",
       "        vertical-align: top;\n",
       "    }\n",
       "\n",
       "    .dataframe thead th {\n",
       "        text-align: right;\n",
       "    }\n",
       "</style>\n",
       "<table border=\"1\" class=\"dataframe\">\n",
       "  <thead>\n",
       "    <tr style=\"text-align: right;\">\n",
       "      <th></th>\n",
       "      <th>loss</th>\n",
       "      <th>auc</th>\n",
       "      <th>accuracy</th>\n",
       "      <th>kappa</th>\n",
       "    </tr>\n",
       "  </thead>\n",
       "  <tbody>\n",
       "    <tr>\n",
       "      <th>0</th>\n",
       "      <td>0.515942</td>\n",
       "      <td>0.831702</td>\n",
       "      <td>0.765718</td>\n",
       "      <td>0.52749</td>\n",
       "    </tr>\n",
       "  </tbody>\n",
       "</table>\n",
       "</div>"
      ],
      "text/plain": [
       "       loss       auc  accuracy    kappa\n",
       "0  0.515942  0.831702  0.765718  0.52749"
      ]
     },
     "metadata": {},
     "output_type": "display_data"
    }
   ],
   "source": [
    "custom_cnn_model = custom_cnn_builder(starting_filters=32, conv_layers=6, convs_per_layer=1, pooling='max', batch_norm=True, last_dropout=0.25)\n",
    "modelStats = runner.run(model=custom_cnn_model, overwrite=False, verbose=1, weight_classes=True, augment=True)\n",
    "display(modelStats.getBestEpoch())\n",
    "display(modelStats.getEvaluation())"
   ]
  },
  {
   "cell_type": "code",
   "execution_count": null,
   "metadata": {},
   "outputs": [],
   "source": []
  },
  {
   "cell_type": "markdown",
   "metadata": {},
   "source": [
    "### Different network per body part"
   ]
  },
  {
   "cell_type": "markdown",
   "metadata": {},
   "source": [
    "#### Sub Networks"
   ]
  },
  {
   "cell_type": "code",
   "execution_count": 34,
   "metadata": {},
   "outputs": [
    {
     "name": "stdout",
     "output_type": "stream",
     "text": [
      "custom/cnn_in.256.256.3_cl.6.1_f.32_ck.3.3_bn_p.max_ps.2.2_pstr.2.2_ld.0.25__wc_aug_XR_SHOULDER\n",
      "/home/manos/servers/jupyterhub/user_dirs/manos/AUEB Data Science/6 - Deep Learning (INF401) - Prodromos Malakasiotis/Assignments/Assignment 2/models/custom/cnn_in.256.256.3_cl.6.1_f.32_ck.3.3_bn_p.max_ps.2.2_pstr.2.2_ld.0.25__wc_aug_XR_SHOULDER\n"
     ]
    },
    {
     "data": {
      "text/html": [
       "<div>\n",
       "<style scoped>\n",
       "    .dataframe tbody tr th:only-of-type {\n",
       "        vertical-align: middle;\n",
       "    }\n",
       "\n",
       "    .dataframe tbody tr th {\n",
       "        vertical-align: top;\n",
       "    }\n",
       "\n",
       "    .dataframe thead th {\n",
       "        text-align: right;\n",
       "    }\n",
       "</style>\n",
       "<table border=\"1\" class=\"dataframe\">\n",
       "  <thead>\n",
       "    <tr style=\"text-align: right;\">\n",
       "      <th></th>\n",
       "      <th>loss</th>\n",
       "      <th>auc</th>\n",
       "      <th>accuracy</th>\n",
       "      <th>kappa</th>\n",
       "      <th>val_loss</th>\n",
       "      <th>val_auc</th>\n",
       "      <th>val_accuracy</th>\n",
       "      <th>val_kappa</th>\n",
       "      <th>lr</th>\n",
       "    </tr>\n",
       "  </thead>\n",
       "  <tbody>\n",
       "    <tr>\n",
       "      <th>42</th>\n",
       "      <td>0.566381</td>\n",
       "      <td>0.790788</td>\n",
       "      <td>0.72848</td>\n",
       "      <td>0.456645</td>\n",
       "      <td>0.580649</td>\n",
       "      <td>0.768724</td>\n",
       "      <td>0.716587</td>\n",
       "      <td>0.432945</td>\n",
       "      <td>0.000002</td>\n",
       "    </tr>\n",
       "  </tbody>\n",
       "</table>\n",
       "</div>"
      ],
      "text/plain": [
       "        loss       auc  accuracy     kappa  val_loss   val_auc  val_accuracy  \\\n",
       "42  0.566381  0.790788   0.72848  0.456645  0.580649  0.768724      0.716587   \n",
       "\n",
       "    val_kappa        lr  \n",
       "42   0.432945  0.000002  "
      ]
     },
     "metadata": {},
     "output_type": "display_data"
    },
    {
     "data": {
      "text/html": [
       "<div>\n",
       "<style scoped>\n",
       "    .dataframe tbody tr th:only-of-type {\n",
       "        vertical-align: middle;\n",
       "    }\n",
       "\n",
       "    .dataframe tbody tr th {\n",
       "        vertical-align: top;\n",
       "    }\n",
       "\n",
       "    .dataframe thead th {\n",
       "        text-align: right;\n",
       "    }\n",
       "</style>\n",
       "<table border=\"1\" class=\"dataframe\">\n",
       "  <thead>\n",
       "    <tr style=\"text-align: right;\">\n",
       "      <th></th>\n",
       "      <th>loss</th>\n",
       "      <th>auc</th>\n",
       "      <th>accuracy</th>\n",
       "      <th>kappa</th>\n",
       "    </tr>\n",
       "  </thead>\n",
       "  <tbody>\n",
       "    <tr>\n",
       "      <th>0</th>\n",
       "      <td>0.565405</td>\n",
       "      <td>0.767859</td>\n",
       "      <td>0.705151</td>\n",
       "      <td>0.409794</td>\n",
       "    </tr>\n",
       "  </tbody>\n",
       "</table>\n",
       "</div>"
      ],
      "text/plain": [
       "       loss       auc  accuracy     kappa\n",
       "0  0.565405  0.767859  0.705151  0.409794"
      ]
     },
     "metadata": {},
     "output_type": "display_data"
    }
   ],
   "source": [
    "custom_cnn_model = custom_cnn_builder(starting_filters=32, conv_layers=6, convs_per_layer=1, pooling='max', batch_norm=True, last_dropout=0.25)\n",
    "modelStats = runner.run(model=custom_cnn_model, overwrite=False, verbose=1, weight_classes=True, augment=True, body_part='XR_SHOULDER')\n",
    "display(modelStats.getBestEpoch())\n",
    "display(modelStats.getEvaluation())"
   ]
  },
  {
   "cell_type": "code",
   "execution_count": 35,
   "metadata": {},
   "outputs": [
    {
     "name": "stdout",
     "output_type": "stream",
     "text": [
      "custom/cnn_in.256.256.3_cl.6.1_f.32_ck.3.3_bn_p.max_ps.2.2_pstr.2.2_ld.0.25__wc_aug_XR_HUMERUS\n",
      "/home/manos/servers/jupyterhub/user_dirs/manos/AUEB Data Science/6 - Deep Learning (INF401) - Prodromos Malakasiotis/Assignments/Assignment 2/models/custom/cnn_in.256.256.3_cl.6.1_f.32_ck.3.3_bn_p.max_ps.2.2_pstr.2.2_ld.0.25__wc_aug_XR_HUMERUS\n"
     ]
    },
    {
     "data": {
      "text/html": [
       "<div>\n",
       "<style scoped>\n",
       "    .dataframe tbody tr th:only-of-type {\n",
       "        vertical-align: middle;\n",
       "    }\n",
       "\n",
       "    .dataframe tbody tr th {\n",
       "        vertical-align: top;\n",
       "    }\n",
       "\n",
       "    .dataframe thead th {\n",
       "        text-align: right;\n",
       "    }\n",
       "</style>\n",
       "<table border=\"1\" class=\"dataframe\">\n",
       "  <thead>\n",
       "    <tr style=\"text-align: right;\">\n",
       "      <th></th>\n",
       "      <th>loss</th>\n",
       "      <th>auc</th>\n",
       "      <th>accuracy</th>\n",
       "      <th>kappa</th>\n",
       "      <th>val_loss</th>\n",
       "      <th>val_auc</th>\n",
       "      <th>val_accuracy</th>\n",
       "      <th>val_kappa</th>\n",
       "      <th>lr</th>\n",
       "    </tr>\n",
       "  </thead>\n",
       "  <tbody>\n",
       "    <tr>\n",
       "      <th>4</th>\n",
       "      <td>0.855168</td>\n",
       "      <td>0.558057</td>\n",
       "      <td>0.53589</td>\n",
       "      <td>0.075629</td>\n",
       "      <td>0.692643</td>\n",
       "      <td>0.57284</td>\n",
       "      <td>0.521569</td>\n",
       "      <td>0.003842</td>\n",
       "      <td>0.001</td>\n",
       "    </tr>\n",
       "  </tbody>\n",
       "</table>\n",
       "</div>"
      ],
      "text/plain": [
       "       loss       auc  accuracy     kappa  val_loss  val_auc  val_accuracy  \\\n",
       "4  0.855168  0.558057   0.53589  0.075629  0.692643  0.57284      0.521569   \n",
       "\n",
       "   val_kappa     lr  \n",
       "4   0.003842  0.001  "
      ]
     },
     "metadata": {},
     "output_type": "display_data"
    },
    {
     "data": {
      "text/html": [
       "<div>\n",
       "<style scoped>\n",
       "    .dataframe tbody tr th:only-of-type {\n",
       "        vertical-align: middle;\n",
       "    }\n",
       "\n",
       "    .dataframe tbody tr th {\n",
       "        vertical-align: top;\n",
       "    }\n",
       "\n",
       "    .dataframe thead th {\n",
       "        text-align: right;\n",
       "    }\n",
       "</style>\n",
       "<table border=\"1\" class=\"dataframe\">\n",
       "  <thead>\n",
       "    <tr style=\"text-align: right;\">\n",
       "      <th></th>\n",
       "      <th>loss</th>\n",
       "      <th>auc</th>\n",
       "      <th>accuracy</th>\n",
       "      <th>kappa</th>\n",
       "    </tr>\n",
       "  </thead>\n",
       "  <tbody>\n",
       "    <tr>\n",
       "      <th>0</th>\n",
       "      <td>0.718655</td>\n",
       "      <td>0.547949</td>\n",
       "      <td>0.503472</td>\n",
       "      <td>-0.014384</td>\n",
       "    </tr>\n",
       "  </tbody>\n",
       "</table>\n",
       "</div>"
      ],
      "text/plain": [
       "       loss       auc  accuracy     kappa\n",
       "0  0.718655  0.547949  0.503472 -0.014384"
      ]
     },
     "metadata": {},
     "output_type": "display_data"
    }
   ],
   "source": [
    "custom_cnn_model = custom_cnn_builder(starting_filters=32, conv_layers=6, convs_per_layer=1, pooling='max', batch_norm=True, last_dropout=0.25)\n",
    "modelStats = runner.run(model=custom_cnn_model, overwrite=False, verbose=1, weight_classes=True, augment=True, body_part='XR_HUMERUS')\n",
    "display(modelStats.getBestEpoch())\n",
    "display(modelStats.getEvaluation())"
   ]
  },
  {
   "cell_type": "code",
   "execution_count": 36,
   "metadata": {},
   "outputs": [
    {
     "name": "stdout",
     "output_type": "stream",
     "text": [
      "custom/cnn_in.256.256.3_cl.6.1_f.32_ck.3.3_bn_p.max_ps.2.2_pstr.2.2_ld.0.25__wc_aug_XR_FINGER\n",
      "/home/manos/servers/jupyterhub/user_dirs/manos/AUEB Data Science/6 - Deep Learning (INF401) - Prodromos Malakasiotis/Assignments/Assignment 2/models/custom/cnn_in.256.256.3_cl.6.1_f.32_ck.3.3_bn_p.max_ps.2.2_pstr.2.2_ld.0.25__wc_aug_XR_FINGER\n"
     ]
    },
    {
     "data": {
      "text/html": [
       "<div>\n",
       "<style scoped>\n",
       "    .dataframe tbody tr th:only-of-type {\n",
       "        vertical-align: middle;\n",
       "    }\n",
       "\n",
       "    .dataframe tbody tr th {\n",
       "        vertical-align: top;\n",
       "    }\n",
       "\n",
       "    .dataframe thead th {\n",
       "        text-align: right;\n",
       "    }\n",
       "</style>\n",
       "<table border=\"1\" class=\"dataframe\">\n",
       "  <thead>\n",
       "    <tr style=\"text-align: right;\">\n",
       "      <th></th>\n",
       "      <th>loss</th>\n",
       "      <th>auc</th>\n",
       "      <th>accuracy</th>\n",
       "      <th>kappa</th>\n",
       "      <th>val_loss</th>\n",
       "      <th>val_auc</th>\n",
       "      <th>val_accuracy</th>\n",
       "      <th>val_kappa</th>\n",
       "      <th>lr</th>\n",
       "    </tr>\n",
       "  </thead>\n",
       "  <tbody>\n",
       "    <tr>\n",
       "      <th>33</th>\n",
       "      <td>0.512114</td>\n",
       "      <td>0.830738</td>\n",
       "      <td>0.737267</td>\n",
       "      <td>0.471151</td>\n",
       "      <td>0.534661</td>\n",
       "      <td>0.801451</td>\n",
       "      <td>0.721135</td>\n",
       "      <td>0.431573</td>\n",
       "      <td>0.00004</td>\n",
       "    </tr>\n",
       "  </tbody>\n",
       "</table>\n",
       "</div>"
      ],
      "text/plain": [
       "        loss       auc  accuracy     kappa  val_loss   val_auc  val_accuracy  \\\n",
       "33  0.512114  0.830738  0.737267  0.471151  0.534661  0.801451      0.721135   \n",
       "\n",
       "    val_kappa       lr  \n",
       "33   0.431573  0.00004  "
      ]
     },
     "metadata": {},
     "output_type": "display_data"
    },
    {
     "data": {
      "text/html": [
       "<div>\n",
       "<style scoped>\n",
       "    .dataframe tbody tr th:only-of-type {\n",
       "        vertical-align: middle;\n",
       "    }\n",
       "\n",
       "    .dataframe tbody tr th {\n",
       "        vertical-align: top;\n",
       "    }\n",
       "\n",
       "    .dataframe thead th {\n",
       "        text-align: right;\n",
       "    }\n",
       "</style>\n",
       "<table border=\"1\" class=\"dataframe\">\n",
       "  <thead>\n",
       "    <tr style=\"text-align: right;\">\n",
       "      <th></th>\n",
       "      <th>loss</th>\n",
       "      <th>auc</th>\n",
       "      <th>accuracy</th>\n",
       "      <th>kappa</th>\n",
       "    </tr>\n",
       "  </thead>\n",
       "  <tbody>\n",
       "    <tr>\n",
       "      <th>0</th>\n",
       "      <td>0.666502</td>\n",
       "      <td>0.754181</td>\n",
       "      <td>0.687636</td>\n",
       "      <td>0.378264</td>\n",
       "    </tr>\n",
       "  </tbody>\n",
       "</table>\n",
       "</div>"
      ],
      "text/plain": [
       "       loss       auc  accuracy     kappa\n",
       "0  0.666502  0.754181  0.687636  0.378264"
      ]
     },
     "metadata": {},
     "output_type": "display_data"
    }
   ],
   "source": [
    "custom_cnn_model = custom_cnn_builder(starting_filters=32, conv_layers=6, convs_per_layer=1, pooling='max', batch_norm=True, last_dropout=0.25)\n",
    "modelStats = runner.run(model=custom_cnn_model, overwrite=False, verbose=1, weight_classes=True, augment=True, body_part='XR_FINGER')\n",
    "display(modelStats.getBestEpoch())\n",
    "display(modelStats.getEvaluation())"
   ]
  },
  {
   "cell_type": "code",
   "execution_count": 37,
   "metadata": {},
   "outputs": [
    {
     "name": "stdout",
     "output_type": "stream",
     "text": [
      "custom/cnn_in.256.256.3_cl.6.1_f.32_ck.3.3_bn_p.max_ps.2.2_pstr.2.2_ld.0.25__wc_aug_XR_ELBOW\n",
      "/home/manos/servers/jupyterhub/user_dirs/manos/AUEB Data Science/6 - Deep Learning (INF401) - Prodromos Malakasiotis/Assignments/Assignment 2/models/custom/cnn_in.256.256.3_cl.6.1_f.32_ck.3.3_bn_p.max_ps.2.2_pstr.2.2_ld.0.25__wc_aug_XR_ELBOW\n"
     ]
    },
    {
     "data": {
      "text/html": [
       "<div>\n",
       "<style scoped>\n",
       "    .dataframe tbody tr th:only-of-type {\n",
       "        vertical-align: middle;\n",
       "    }\n",
       "\n",
       "    .dataframe tbody tr th {\n",
       "        vertical-align: top;\n",
       "    }\n",
       "\n",
       "    .dataframe thead th {\n",
       "        text-align: right;\n",
       "    }\n",
       "</style>\n",
       "<table border=\"1\" class=\"dataframe\">\n",
       "  <thead>\n",
       "    <tr style=\"text-align: right;\">\n",
       "      <th></th>\n",
       "      <th>loss</th>\n",
       "      <th>auc</th>\n",
       "      <th>accuracy</th>\n",
       "      <th>kappa</th>\n",
       "      <th>val_loss</th>\n",
       "      <th>val_auc</th>\n",
       "      <th>val_accuracy</th>\n",
       "      <th>val_kappa</th>\n",
       "      <th>lr</th>\n",
       "    </tr>\n",
       "  </thead>\n",
       "  <tbody>\n",
       "    <tr>\n",
       "      <th>5</th>\n",
       "      <td>1.045919</td>\n",
       "      <td>0.594766</td>\n",
       "      <td>0.57074</td>\n",
       "      <td>0.14383</td>\n",
       "      <td>0.670807</td>\n",
       "      <td>0.655819</td>\n",
       "      <td>0.616008</td>\n",
       "      <td>0.232449</td>\n",
       "      <td>0.001</td>\n",
       "    </tr>\n",
       "  </tbody>\n",
       "</table>\n",
       "</div>"
      ],
      "text/plain": [
       "       loss       auc  accuracy    kappa  val_loss   val_auc  val_accuracy  \\\n",
       "5  1.045919  0.594766   0.57074  0.14383  0.670807  0.655819      0.616008   \n",
       "\n",
       "   val_kappa     lr  \n",
       "5   0.232449  0.001  "
      ]
     },
     "metadata": {},
     "output_type": "display_data"
    },
    {
     "data": {
      "text/html": [
       "<div>\n",
       "<style scoped>\n",
       "    .dataframe tbody tr th:only-of-type {\n",
       "        vertical-align: middle;\n",
       "    }\n",
       "\n",
       "    .dataframe tbody tr th {\n",
       "        vertical-align: top;\n",
       "    }\n",
       "\n",
       "    .dataframe thead th {\n",
       "        text-align: right;\n",
       "    }\n",
       "</style>\n",
       "<table border=\"1\" class=\"dataframe\">\n",
       "  <thead>\n",
       "    <tr style=\"text-align: right;\">\n",
       "      <th></th>\n",
       "      <th>loss</th>\n",
       "      <th>auc</th>\n",
       "      <th>accuracy</th>\n",
       "      <th>kappa</th>\n",
       "    </tr>\n",
       "  </thead>\n",
       "  <tbody>\n",
       "    <tr>\n",
       "      <th>0</th>\n",
       "      <td>0.799958</td>\n",
       "      <td>0.614292</td>\n",
       "      <td>0.593548</td>\n",
       "      <td>0.187266</td>\n",
       "    </tr>\n",
       "  </tbody>\n",
       "</table>\n",
       "</div>"
      ],
      "text/plain": [
       "       loss       auc  accuracy     kappa\n",
       "0  0.799958  0.614292  0.593548  0.187266"
      ]
     },
     "metadata": {},
     "output_type": "display_data"
    }
   ],
   "source": [
    "custom_cnn_model = custom_cnn_builder(starting_filters=32, conv_layers=6, convs_per_layer=1, pooling='max', batch_norm=True, last_dropout=0.25)\n",
    "modelStats = runner.run(model=custom_cnn_model, overwrite=False, verbose=1, weight_classes=True, augment=True, body_part='XR_ELBOW')\n",
    "display(modelStats.getBestEpoch())\n",
    "display(modelStats.getEvaluation())"
   ]
  },
  {
   "cell_type": "code",
   "execution_count": 38,
   "metadata": {},
   "outputs": [
    {
     "name": "stdout",
     "output_type": "stream",
     "text": [
      "custom/cnn_in.256.256.3_cl.6.1_f.32_ck.3.3_bn_p.max_ps.2.2_pstr.2.2_ld.0.25__wc_aug_XR_WRIST\n",
      "/home/manos/servers/jupyterhub/user_dirs/manos/AUEB Data Science/6 - Deep Learning (INF401) - Prodromos Malakasiotis/Assignments/Assignment 2/models/custom/cnn_in.256.256.3_cl.6.1_f.32_ck.3.3_bn_p.max_ps.2.2_pstr.2.2_ld.0.25__wc_aug_XR_WRIST\n"
     ]
    },
    {
     "data": {
      "text/html": [
       "<div>\n",
       "<style scoped>\n",
       "    .dataframe tbody tr th:only-of-type {\n",
       "        vertical-align: middle;\n",
       "    }\n",
       "\n",
       "    .dataframe tbody tr th {\n",
       "        vertical-align: top;\n",
       "    }\n",
       "\n",
       "    .dataframe thead th {\n",
       "        text-align: right;\n",
       "    }\n",
       "</style>\n",
       "<table border=\"1\" class=\"dataframe\">\n",
       "  <thead>\n",
       "    <tr style=\"text-align: right;\">\n",
       "      <th></th>\n",
       "      <th>loss</th>\n",
       "      <th>auc</th>\n",
       "      <th>accuracy</th>\n",
       "      <th>kappa</th>\n",
       "      <th>val_loss</th>\n",
       "      <th>val_auc</th>\n",
       "      <th>val_accuracy</th>\n",
       "      <th>val_kappa</th>\n",
       "      <th>lr</th>\n",
       "    </tr>\n",
       "  </thead>\n",
       "  <tbody>\n",
       "    <tr>\n",
       "      <th>29</th>\n",
       "      <td>0.422631</td>\n",
       "      <td>0.887193</td>\n",
       "      <td>0.809255</td>\n",
       "      <td>0.606066</td>\n",
       "      <td>0.441971</td>\n",
       "      <td>0.86004</td>\n",
       "      <td>0.798565</td>\n",
       "      <td>0.57287</td>\n",
       "      <td>0.0002</td>\n",
       "    </tr>\n",
       "  </tbody>\n",
       "</table>\n",
       "</div>"
      ],
      "text/plain": [
       "        loss       auc  accuracy     kappa  val_loss  val_auc  val_accuracy  \\\n",
       "29  0.422631  0.887193  0.809255  0.606066  0.441971  0.86004      0.798565   \n",
       "\n",
       "    val_kappa      lr  \n",
       "29    0.57287  0.0002  "
      ]
     },
     "metadata": {},
     "output_type": "display_data"
    },
    {
     "data": {
      "text/html": [
       "<div>\n",
       "<style scoped>\n",
       "    .dataframe tbody tr th:only-of-type {\n",
       "        vertical-align: middle;\n",
       "    }\n",
       "\n",
       "    .dataframe tbody tr th {\n",
       "        vertical-align: top;\n",
       "    }\n",
       "\n",
       "    .dataframe thead th {\n",
       "        text-align: right;\n",
       "    }\n",
       "</style>\n",
       "<table border=\"1\" class=\"dataframe\">\n",
       "  <thead>\n",
       "    <tr style=\"text-align: right;\">\n",
       "      <th></th>\n",
       "      <th>loss</th>\n",
       "      <th>auc</th>\n",
       "      <th>accuracy</th>\n",
       "      <th>kappa</th>\n",
       "    </tr>\n",
       "  </thead>\n",
       "  <tbody>\n",
       "    <tr>\n",
       "      <th>0</th>\n",
       "      <td>0.491796</td>\n",
       "      <td>0.82975</td>\n",
       "      <td>0.769347</td>\n",
       "      <td>0.524725</td>\n",
       "    </tr>\n",
       "  </tbody>\n",
       "</table>\n",
       "</div>"
      ],
      "text/plain": [
       "       loss      auc  accuracy     kappa\n",
       "0  0.491796  0.82975  0.769347  0.524725"
      ]
     },
     "metadata": {},
     "output_type": "display_data"
    }
   ],
   "source": [
    "custom_cnn_model = custom_cnn_builder(starting_filters=32, conv_layers=6, convs_per_layer=1, pooling='max', batch_norm=True, last_dropout=0.25)\n",
    "modelStats = runner.run(model=custom_cnn_model, overwrite=False, verbose=1, weight_classes=True, augment=True, body_part='XR_WRIST')\n",
    "display(modelStats.getBestEpoch())\n",
    "display(modelStats.getEvaluation())"
   ]
  },
  {
   "cell_type": "code",
   "execution_count": 39,
   "metadata": {},
   "outputs": [
    {
     "name": "stdout",
     "output_type": "stream",
     "text": [
      "custom/cnn_in.256.256.3_cl.6.1_f.32_ck.3.3_bn_p.max_ps.2.2_pstr.2.2_ld.0.25__wc_aug_XR_FOREARM\n",
      "/home/manos/servers/jupyterhub/user_dirs/manos/AUEB Data Science/6 - Deep Learning (INF401) - Prodromos Malakasiotis/Assignments/Assignment 2/models/custom/cnn_in.256.256.3_cl.6.1_f.32_ck.3.3_bn_p.max_ps.2.2_pstr.2.2_ld.0.25__wc_aug_XR_FOREARM\n"
     ]
    },
    {
     "data": {
      "text/html": [
       "<div>\n",
       "<style scoped>\n",
       "    .dataframe tbody tr th:only-of-type {\n",
       "        vertical-align: middle;\n",
       "    }\n",
       "\n",
       "    .dataframe tbody tr th {\n",
       "        vertical-align: top;\n",
       "    }\n",
       "\n",
       "    .dataframe thead th {\n",
       "        text-align: right;\n",
       "    }\n",
       "</style>\n",
       "<table border=\"1\" class=\"dataframe\">\n",
       "  <thead>\n",
       "    <tr style=\"text-align: right;\">\n",
       "      <th></th>\n",
       "      <th>loss</th>\n",
       "      <th>auc</th>\n",
       "      <th>accuracy</th>\n",
       "      <th>kappa</th>\n",
       "      <th>val_loss</th>\n",
       "      <th>val_auc</th>\n",
       "      <th>val_accuracy</th>\n",
       "      <th>val_kappa</th>\n",
       "      <th>lr</th>\n",
       "    </tr>\n",
       "  </thead>\n",
       "  <tbody>\n",
       "    <tr>\n",
       "      <th>35</th>\n",
       "      <td>0.586367</td>\n",
       "      <td>0.783904</td>\n",
       "      <td>0.726027</td>\n",
       "      <td>0.425851</td>\n",
       "      <td>0.493527</td>\n",
       "      <td>0.829627</td>\n",
       "      <td>0.767123</td>\n",
       "      <td>0.494797</td>\n",
       "      <td>0.000008</td>\n",
       "    </tr>\n",
       "  </tbody>\n",
       "</table>\n",
       "</div>"
      ],
      "text/plain": [
       "        loss       auc  accuracy     kappa  val_loss   val_auc  val_accuracy  \\\n",
       "35  0.586367  0.783904  0.726027  0.425851  0.493527  0.829627      0.767123   \n",
       "\n",
       "    val_kappa        lr  \n",
       "35   0.494797  0.000008  "
      ]
     },
     "metadata": {},
     "output_type": "display_data"
    },
    {
     "data": {
      "text/html": [
       "<div>\n",
       "<style scoped>\n",
       "    .dataframe tbody tr th:only-of-type {\n",
       "        vertical-align: middle;\n",
       "    }\n",
       "\n",
       "    .dataframe tbody tr th {\n",
       "        vertical-align: top;\n",
       "    }\n",
       "\n",
       "    .dataframe thead th {\n",
       "        text-align: right;\n",
       "    }\n",
       "</style>\n",
       "<table border=\"1\" class=\"dataframe\">\n",
       "  <thead>\n",
       "    <tr style=\"text-align: right;\">\n",
       "      <th></th>\n",
       "      <th>loss</th>\n",
       "      <th>auc</th>\n",
       "      <th>accuracy</th>\n",
       "      <th>kappa</th>\n",
       "    </tr>\n",
       "  </thead>\n",
       "  <tbody>\n",
       "    <tr>\n",
       "      <th>0</th>\n",
       "      <td>0.626921</td>\n",
       "      <td>0.710177</td>\n",
       "      <td>0.667774</td>\n",
       "      <td>0.336098</td>\n",
       "    </tr>\n",
       "  </tbody>\n",
       "</table>\n",
       "</div>"
      ],
      "text/plain": [
       "       loss       auc  accuracy     kappa\n",
       "0  0.626921  0.710177  0.667774  0.336098"
      ]
     },
     "metadata": {},
     "output_type": "display_data"
    }
   ],
   "source": [
    "custom_cnn_model = custom_cnn_builder(starting_filters=32, conv_layers=6, convs_per_layer=1, pooling='max', batch_norm=True, last_dropout=0.25)\n",
    "modelStats = runner.run(model=custom_cnn_model, overwrite=False, verbose=1, weight_classes=True, augment=True, body_part='XR_FOREARM')\n",
    "display(modelStats.getBestEpoch())\n",
    "display(modelStats.getEvaluation())"
   ]
  },
  {
   "cell_type": "code",
   "execution_count": 40,
   "metadata": {},
   "outputs": [
    {
     "name": "stdout",
     "output_type": "stream",
     "text": [
      "custom/cnn_in.256.256.3_cl.6.1_f.32_ck.3.3_bn_p.max_ps.2.2_pstr.2.2_ld.0.25__wc_aug_XR_HAND\n",
      "/home/manos/servers/jupyterhub/user_dirs/manos/AUEB Data Science/6 - Deep Learning (INF401) - Prodromos Malakasiotis/Assignments/Assignment 2/models/custom/cnn_in.256.256.3_cl.6.1_f.32_ck.3.3_bn_p.max_ps.2.2_pstr.2.2_ld.0.25__wc_aug_XR_HAND\n"
     ]
    },
    {
     "data": {
      "text/html": [
       "<div>\n",
       "<style scoped>\n",
       "    .dataframe tbody tr th:only-of-type {\n",
       "        vertical-align: middle;\n",
       "    }\n",
       "\n",
       "    .dataframe tbody tr th {\n",
       "        vertical-align: top;\n",
       "    }\n",
       "\n",
       "    .dataframe thead th {\n",
       "        text-align: right;\n",
       "    }\n",
       "</style>\n",
       "<table border=\"1\" class=\"dataframe\">\n",
       "  <thead>\n",
       "    <tr style=\"text-align: right;\">\n",
       "      <th></th>\n",
       "      <th>loss</th>\n",
       "      <th>auc</th>\n",
       "      <th>accuracy</th>\n",
       "      <th>kappa</th>\n",
       "      <th>val_loss</th>\n",
       "      <th>val_auc</th>\n",
       "      <th>val_accuracy</th>\n",
       "      <th>val_kappa</th>\n",
       "      <th>lr</th>\n",
       "    </tr>\n",
       "  </thead>\n",
       "  <tbody>\n",
       "    <tr>\n",
       "      <th>5</th>\n",
       "      <td>1.081908</td>\n",
       "      <td>0.556295</td>\n",
       "      <td>0.536536</td>\n",
       "      <td>0.067797</td>\n",
       "      <td>0.574485</td>\n",
       "      <td>0.610528</td>\n",
       "      <td>0.732191</td>\n",
       "      <td>0.0</td>\n",
       "      <td>0.001</td>\n",
       "    </tr>\n",
       "  </tbody>\n",
       "</table>\n",
       "</div>"
      ],
      "text/plain": [
       "       loss       auc  accuracy     kappa  val_loss   val_auc  val_accuracy  \\\n",
       "5  1.081908  0.556295  0.536536  0.067797  0.574485  0.610528      0.732191   \n",
       "\n",
       "   val_kappa     lr  \n",
       "5        0.0  0.001  "
      ]
     },
     "metadata": {},
     "output_type": "display_data"
    },
    {
     "data": {
      "text/html": [
       "<div>\n",
       "<style scoped>\n",
       "    .dataframe tbody tr th:only-of-type {\n",
       "        vertical-align: middle;\n",
       "    }\n",
       "\n",
       "    .dataframe tbody tr th {\n",
       "        vertical-align: top;\n",
       "    }\n",
       "\n",
       "    .dataframe thead th {\n",
       "        text-align: right;\n",
       "    }\n",
       "</style>\n",
       "<table border=\"1\" class=\"dataframe\">\n",
       "  <thead>\n",
       "    <tr style=\"text-align: right;\">\n",
       "      <th></th>\n",
       "      <th>loss</th>\n",
       "      <th>auc</th>\n",
       "      <th>accuracy</th>\n",
       "      <th>kappa</th>\n",
       "    </tr>\n",
       "  </thead>\n",
       "  <tbody>\n",
       "    <tr>\n",
       "      <th>0</th>\n",
       "      <td>0.727002</td>\n",
       "      <td>0.641627</td>\n",
       "      <td>0.58913</td>\n",
       "      <td>0.0</td>\n",
       "    </tr>\n",
       "  </tbody>\n",
       "</table>\n",
       "</div>"
      ],
      "text/plain": [
       "       loss       auc  accuracy  kappa\n",
       "0  0.727002  0.641627   0.58913    0.0"
      ]
     },
     "metadata": {},
     "output_type": "display_data"
    }
   ],
   "source": [
    "custom_cnn_model = custom_cnn_builder(starting_filters=32, conv_layers=6, convs_per_layer=1, pooling='max', batch_norm=True, last_dropout=0.25)\n",
    "modelStats = runner.run(model=custom_cnn_model, overwrite=False, verbose=1, weight_classes=True, augment=True, body_part='XR_HAND')\n",
    "display(modelStats.getBestEpoch())\n",
    "display(modelStats.getEvaluation())"
   ]
  },
  {
   "cell_type": "markdown",
   "metadata": {},
   "source": [
    "#### Feed Forward network"
   ]
  },
  {
   "cell_type": "code",
   "execution_count": 41,
   "metadata": {},
   "outputs": [],
   "source": [
    "# from src.models.builders import custom_cnn_feed_forward_builder\n",
    "# custom_cnn_model = custom_cnn_feed_forward_builder()\n",
    "# modelStats = runner.run(model=custom_cnn_model, overwrite=False, verbose=1, weight_classes=True, augment=True, body_part='XR_HAND')\n",
    "# display(modelStats.getBestEpoch())\n",
    "# display(modelStats.getEvaluation())"
   ]
  },
  {
   "cell_type": "code",
   "execution_count": null,
   "metadata": {},
   "outputs": [],
   "source": []
  }
 ],
 "metadata": {
  "kernelspec": {
   "display_name": "deep-learning-2",
   "language": "python",
   "name": "deep-learning-2"
  },
  "language_info": {
   "codemirror_mode": {
    "name": "ipython",
    "version": 3
   },
   "file_extension": ".py",
   "mimetype": "text/x-python",
   "name": "python",
   "nbconvert_exporter": "python",
   "pygments_lexer": "ipython3",
   "version": "3.8.3"
  },
  "widgets": {
   "application/vnd.jupyter.widget-state+json": {
    "state": {},
    "version_major": 2,
    "version_minor": 0
   }
  }
 },
 "nbformat": 4,
 "nbformat_minor": 4
}
